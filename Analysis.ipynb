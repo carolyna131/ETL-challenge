{
 "cells": [
  {
   "cell_type": "code",
   "execution_count": null,
   "metadata": {},
   "outputs": [],
   "source": [
    "import pandas as pd\n",
    "import numpy as np\n",
    "from sqlalchemy import create_engine\n",
    "import sqlite3"
   ]
  },
  {
   "cell_type": "markdown",
   "metadata": {},
   "source": [
    "## Store CSV into DataFrame, Extract & Transform\n",
    "**We have five csv file:**\n",
    "* Airlines - has information about airline_id(IATA Code) and airline name;\n",
    "* Airports - has information about airport_id, airport, city, state, country, latitude, longitude\n",
    "* Flights  - contains information about date, day of the week,airline id, flight number,tail number,origin airport, destination airport, scheduled departure, actual departure time,delay(in minutes), scheduled arrival, Arrival delay, and cancellation.\n",
    "* tweets   - information about tweets regarding the flight experience,ariline and date of tweets.\n",
    "* there is one additional file: cancellation reason. "
   ]
  },
  {
   "cell_type": "markdown",
   "metadata": {},
   "source": [
    "# 1. Airline"
   ]
  },
  {
   "cell_type": "code",
   "execution_count": null,
   "metadata": {},
   "outputs": [],
   "source": [
    "airline_file = \"./Resources/airlines.csv\"\n",
    "airline_df = pd.read_csv(airline_file)\n",
    "airline_df"
   ]
  },
  {
   "cell_type": "code",
   "execution_count": null,
   "metadata": {},
   "outputs": [],
   "source": [
    "airline_df.columns = ['AIRLINE_ID','AIRLINE']\n",
    "# airline_df.set_index('AIRLINE_ID',inplace=True)\n",
    "airline_df"
   ]
  },
  {
   "cell_type": "markdown",
   "metadata": {},
   "source": [
    "# 2. Airport"
   ]
  },
  {
   "cell_type": "code",
   "execution_count": null,
   "metadata": {},
   "outputs": [],
   "source": [
    "airports_file = \"./Resources/airports.csv\"\n",
    "airports_df = pd.read_csv(airports_file)\n",
    "airports_df.columns =['AIRPORT_ID','AIRPORT','CITY','STATE','COUNTRY','LATITUDE','LONGITUDE']\n",
    "# airports_df.set_index('AIRPORT_ID',inplace=True)\n",
    "airports_df.head()"
   ]
  },
  {
   "cell_type": "markdown",
   "metadata": {},
   "source": [
    "# 3. Flight"
   ]
  },
  {
   "cell_type": "code",
   "execution_count": 58,
   "metadata": {},
   "outputs": [
    {
     "name": "stderr",
     "output_type": "stream",
     "text": [
      "C:\\Users\\DELGCA01\\anaconda\\Anaconda3\\lib\\site-packages\\IPython\\core\\interactiveshell.py:3071: DtypeWarning: Columns (7,8) have mixed types.Specify dtype option on import or set low_memory=False.\n",
      "  has_raised = await self.run_ast_nodes(code_ast.body, cell_name,\n"
     ]
    },
    {
     "data": {
      "text/html": [
       "<div>\n",
       "<style scoped>\n",
       "    .dataframe tbody tr th:only-of-type {\n",
       "        vertical-align: middle;\n",
       "    }\n",
       "\n",
       "    .dataframe tbody tr th {\n",
       "        vertical-align: top;\n",
       "    }\n",
       "\n",
       "    .dataframe thead th {\n",
       "        text-align: right;\n",
       "    }\n",
       "</style>\n",
       "<table border=\"1\" class=\"dataframe\">\n",
       "  <thead>\n",
       "    <tr style=\"text-align: right;\">\n",
       "      <th></th>\n",
       "      <th>YEAR</th>\n",
       "      <th>MONTH</th>\n",
       "      <th>DAY</th>\n",
       "      <th>DAY_OF_WEEK</th>\n",
       "      <th>AIRLINE</th>\n",
       "      <th>FLIGHT_NUMBER</th>\n",
       "      <th>TAIL_NUMBER</th>\n",
       "      <th>ORIGIN_AIRPORT</th>\n",
       "      <th>DESTINATION_AIRPORT</th>\n",
       "      <th>SCHEDULED_DEPARTURE</th>\n",
       "      <th>...</th>\n",
       "      <th>ARRIVAL_TIME</th>\n",
       "      <th>ARRIVAL_DELAY</th>\n",
       "      <th>DIVERTED</th>\n",
       "      <th>CANCELLED</th>\n",
       "      <th>CANCELLATION_REASON</th>\n",
       "      <th>AIR_SYSTEM_DELAY</th>\n",
       "      <th>SECURITY_DELAY</th>\n",
       "      <th>AIRLINE_DELAY</th>\n",
       "      <th>LATE_AIRCRAFT_DELAY</th>\n",
       "      <th>WEATHER_DELAY</th>\n",
       "    </tr>\n",
       "  </thead>\n",
       "  <tbody>\n",
       "    <tr>\n",
       "      <th>0</th>\n",
       "      <td>2015</td>\n",
       "      <td>1</td>\n",
       "      <td>1</td>\n",
       "      <td>4</td>\n",
       "      <td>AS</td>\n",
       "      <td>98</td>\n",
       "      <td>N407AS</td>\n",
       "      <td>ANC</td>\n",
       "      <td>SEA</td>\n",
       "      <td>5</td>\n",
       "      <td>...</td>\n",
       "      <td>408.0</td>\n",
       "      <td>-22.0</td>\n",
       "      <td>0</td>\n",
       "      <td>0</td>\n",
       "      <td>NaN</td>\n",
       "      <td>NaN</td>\n",
       "      <td>NaN</td>\n",
       "      <td>NaN</td>\n",
       "      <td>NaN</td>\n",
       "      <td>NaN</td>\n",
       "    </tr>\n",
       "    <tr>\n",
       "      <th>1</th>\n",
       "      <td>2015</td>\n",
       "      <td>1</td>\n",
       "      <td>1</td>\n",
       "      <td>4</td>\n",
       "      <td>AA</td>\n",
       "      <td>2336</td>\n",
       "      <td>N3KUAA</td>\n",
       "      <td>LAX</td>\n",
       "      <td>PBI</td>\n",
       "      <td>10</td>\n",
       "      <td>...</td>\n",
       "      <td>741.0</td>\n",
       "      <td>-9.0</td>\n",
       "      <td>0</td>\n",
       "      <td>0</td>\n",
       "      <td>NaN</td>\n",
       "      <td>NaN</td>\n",
       "      <td>NaN</td>\n",
       "      <td>NaN</td>\n",
       "      <td>NaN</td>\n",
       "      <td>NaN</td>\n",
       "    </tr>\n",
       "    <tr>\n",
       "      <th>2</th>\n",
       "      <td>2015</td>\n",
       "      <td>1</td>\n",
       "      <td>1</td>\n",
       "      <td>4</td>\n",
       "      <td>US</td>\n",
       "      <td>840</td>\n",
       "      <td>N171US</td>\n",
       "      <td>SFO</td>\n",
       "      <td>CLT</td>\n",
       "      <td>20</td>\n",
       "      <td>...</td>\n",
       "      <td>811.0</td>\n",
       "      <td>5.0</td>\n",
       "      <td>0</td>\n",
       "      <td>0</td>\n",
       "      <td>NaN</td>\n",
       "      <td>NaN</td>\n",
       "      <td>NaN</td>\n",
       "      <td>NaN</td>\n",
       "      <td>NaN</td>\n",
       "      <td>NaN</td>\n",
       "    </tr>\n",
       "    <tr>\n",
       "      <th>3</th>\n",
       "      <td>2015</td>\n",
       "      <td>1</td>\n",
       "      <td>1</td>\n",
       "      <td>4</td>\n",
       "      <td>AA</td>\n",
       "      <td>258</td>\n",
       "      <td>N3HYAA</td>\n",
       "      <td>LAX</td>\n",
       "      <td>MIA</td>\n",
       "      <td>20</td>\n",
       "      <td>...</td>\n",
       "      <td>756.0</td>\n",
       "      <td>-9.0</td>\n",
       "      <td>0</td>\n",
       "      <td>0</td>\n",
       "      <td>NaN</td>\n",
       "      <td>NaN</td>\n",
       "      <td>NaN</td>\n",
       "      <td>NaN</td>\n",
       "      <td>NaN</td>\n",
       "      <td>NaN</td>\n",
       "    </tr>\n",
       "    <tr>\n",
       "      <th>4</th>\n",
       "      <td>2015</td>\n",
       "      <td>1</td>\n",
       "      <td>1</td>\n",
       "      <td>4</td>\n",
       "      <td>AS</td>\n",
       "      <td>135</td>\n",
       "      <td>N527AS</td>\n",
       "      <td>SEA</td>\n",
       "      <td>ANC</td>\n",
       "      <td>25</td>\n",
       "      <td>...</td>\n",
       "      <td>259.0</td>\n",
       "      <td>-21.0</td>\n",
       "      <td>0</td>\n",
       "      <td>0</td>\n",
       "      <td>NaN</td>\n",
       "      <td>NaN</td>\n",
       "      <td>NaN</td>\n",
       "      <td>NaN</td>\n",
       "      <td>NaN</td>\n",
       "      <td>NaN</td>\n",
       "    </tr>\n",
       "  </tbody>\n",
       "</table>\n",
       "<p>5 rows × 31 columns</p>\n",
       "</div>"
      ],
      "text/plain": [
       "   YEAR  MONTH  DAY  DAY_OF_WEEK AIRLINE  FLIGHT_NUMBER TAIL_NUMBER  \\\n",
       "0  2015      1    1            4      AS             98      N407AS   \n",
       "1  2015      1    1            4      AA           2336      N3KUAA   \n",
       "2  2015      1    1            4      US            840      N171US   \n",
       "3  2015      1    1            4      AA            258      N3HYAA   \n",
       "4  2015      1    1            4      AS            135      N527AS   \n",
       "\n",
       "  ORIGIN_AIRPORT DESTINATION_AIRPORT  SCHEDULED_DEPARTURE  ...  ARRIVAL_TIME  \\\n",
       "0            ANC                 SEA                    5  ...         408.0   \n",
       "1            LAX                 PBI                   10  ...         741.0   \n",
       "2            SFO                 CLT                   20  ...         811.0   \n",
       "3            LAX                 MIA                   20  ...         756.0   \n",
       "4            SEA                 ANC                   25  ...         259.0   \n",
       "\n",
       "   ARRIVAL_DELAY  DIVERTED  CANCELLED  CANCELLATION_REASON  AIR_SYSTEM_DELAY  \\\n",
       "0          -22.0         0          0                  NaN               NaN   \n",
       "1           -9.0         0          0                  NaN               NaN   \n",
       "2            5.0         0          0                  NaN               NaN   \n",
       "3           -9.0         0          0                  NaN               NaN   \n",
       "4          -21.0         0          0                  NaN               NaN   \n",
       "\n",
       "   SECURITY_DELAY  AIRLINE_DELAY  LATE_AIRCRAFT_DELAY  WEATHER_DELAY  \n",
       "0             NaN            NaN                  NaN            NaN  \n",
       "1             NaN            NaN                  NaN            NaN  \n",
       "2             NaN            NaN                  NaN            NaN  \n",
       "3             NaN            NaN                  NaN            NaN  \n",
       "4             NaN            NaN                  NaN            NaN  \n",
       "\n",
       "[5 rows x 31 columns]"
      ]
     },
     "execution_count": 58,
     "metadata": {},
     "output_type": "execute_result"
    }
   ],
   "source": [
    "flights_file = \"./Resources/flights.csv\"\n",
    "flights_df = pd.read_csv(flights_file)\n",
    "flights_df.head(5)"
   ]
  },
  {
   "cell_type": "markdown",
   "metadata": {},
   "source": [
    "### Check Datatypes of all the columns"
   ]
  },
  {
   "cell_type": "code",
   "execution_count": null,
   "metadata": {},
   "outputs": [],
   "source": [
    "flights_df.dtypes"
   ]
  },
  {
   "cell_type": "markdown",
   "metadata": {},
   "source": [
    "## Subset the airlines matching the tweets data"
   ]
  },
  {
   "cell_type": "code",
   "execution_count": null,
   "metadata": {},
   "outputs": [],
   "source": [
    "flights_df = flights_df.loc[(flights_df['AIRLINE']=='UA')| (flights_df['AIRLINE']=='US')| (flights_df['AIRLINE']=='AA')\n",
    "                            | (flights_df['AIRLINE']=='WN') | (flights_df['AIRLINE']=='VX')]"
   ]
  },
  {
   "cell_type": "markdown",
   "metadata": {},
   "source": [
    "### Check NaN values"
   ]
  },
  {
   "cell_type": "code",
   "execution_count": null,
   "metadata": {},
   "outputs": [],
   "source": [
    "# Drop rows of NaN\n",
    "# There isn't a row that's completely NaN\n",
    "all_nan_df = flights_df[flights_df.isna().all(axis=1)]\n",
    "all_nan_df.head()"
   ]
  },
  {
   "cell_type": "code",
   "execution_count": null,
   "metadata": {},
   "outputs": [],
   "source": [
    "# However, for the flights that's not delayed/ cancelled, those columns are NaN\n",
    "any_nan_df = flights_df[flights_df.isna().any(axis=1)]\n",
    "any_nan_df.head()"
   ]
  },
  {
   "cell_type": "code",
   "execution_count": null,
   "metadata": {},
   "outputs": [],
   "source": [
    "# For readibility, we replace NaN with 0 \n",
    "flights_df = flights_df.fillna(0)\n",
    "flights_df[flights_df.isna().any(axis=1)]\n",
    "\n",
    "# For excluding 1 column: any_nan_df.loc[:, any_nan_df.columns != 'CANCELLATION_REASON'].fillna(0)"
   ]
  },
  {
   "cell_type": "markdown",
   "metadata": {},
   "source": [
    "### Modify Columns and Labels of categories"
   ]
  },
  {
   "cell_type": "code",
   "execution_count": null,
   "metadata": {},
   "outputs": [],
   "source": [
    "# DROP DELAY columns\n",
    "flights_df = flights_df.drop(columns=['AIR_SYSTEM_DELAY', 'SECURITY_DELAY','AIRLINE_DELAY',\n",
    "                         'LATE_AIRCRAFT_DELAY','WEATHER_DELAY'])\n",
    "flights_df"
   ]
  },
  {
   "cell_type": "code",
   "execution_count": null,
   "metadata": {},
   "outputs": [],
   "source": [
    "# Merge DateTime to one column\n",
    "flights_df['DATE'] = pd.to_datetime(flights_df[['YEAR','MONTH','DAY']])\n",
    "flights_df = flights_df.drop(columns=['YEAR','MONTH','DAY'])\n",
    "flights_df.head()"
   ]
  },
  {
   "cell_type": "code",
   "execution_count": null,
   "metadata": {
    "scrolled": true
   },
   "outputs": [],
   "source": [
    "# Saturday has the least flights\n",
    "# Thursday has the most flights\n",
    "flights_df.groupby('DAY_OF_WEEK').count()"
   ]
  },
  {
   "cell_type": "code",
   "execution_count": null,
   "metadata": {},
   "outputs": [],
   "source": [
    "# Change Day of week from num to string\n",
    "flights_df.loc[flights_df[\"DAY_OF_WEEK\"] == 1, \"DAY_OF_WEEK\"] = \"Monday\"\n",
    "flights_df.loc[flights_df[\"DAY_OF_WEEK\"] == 2, \"DAY_OF_WEEK\"] = \"Tuesday\"\n",
    "flights_df.loc[flights_df[\"DAY_OF_WEEK\"] == 3, \"DAY_OF_WEEK\"] = \"Wednesday\"\n",
    "flights_df.loc[flights_df[\"DAY_OF_WEEK\"] == 4, \"DAY_OF_WEEK\"] = \"Thursday\"\n",
    "flights_df.loc[flights_df[\"DAY_OF_WEEK\"] == 5, \"DAY_OF_WEEK\"] = \"Friday\"\n",
    "flights_df.loc[flights_df[\"DAY_OF_WEEK\"] == 6, \"DAY_OF_WEEK\"] = \"Saturday\"\n",
    "flights_df.loc[flights_df[\"DAY_OF_WEEK\"] == 7, \"DAY_OF_WEEK\"] = \"Sunday\""
   ]
  },
  {
   "cell_type": "markdown",
   "metadata": {},
   "source": [
    "### Merge with airline and airport df"
   ]
  },
  {
   "cell_type": "code",
   "execution_count": null,
   "metadata": {},
   "outputs": [],
   "source": [
    "flights_air = pd.merge(flights_df,airline_df,left_on='AIRLINE',right_on='AIRLINE_ID',how='left')\n",
    "flights_air = flights_air.drop(columns=['AIRLINE_ID'])\n",
    "flights_air = flights_air.rename(columns={'AIRLINE_x': 'AIRLINE_ID', 'AIRLINE_y': 'AIRLINE'})\n",
    "flights_air"
   ]
  },
  {
   "cell_type": "markdown",
   "metadata": {},
   "source": [
    "### Delayed Flights"
   ]
  },
  {
   "cell_type": "code",
   "execution_count": null,
   "metadata": {},
   "outputs": [],
   "source": [
    "# The total df of delay flights\n",
    "arrival_Delay = flights_air.loc[flights_air['ARRIVAL_DELAY'] > 0].reset_index(drop=True)  # negative value means arrive earlier\n",
    "departure_Delay=flights_air.loc[flights_air['DEPARTURE_DELAY']> 0].reset_index(drop=True)\n",
    "\n",
    "#  for dep_Delay: 2125618 rows\n",
    "#  for arr_Delay: 2086896 rows"
   ]
  },
  {
   "cell_type": "code",
   "execution_count": null,
   "metadata": {},
   "outputs": [],
   "source": [
    "# Both arrival and departure are delayed\n",
    "delay_Flights = flights_air.loc[(flights_air['ARRIVAL_DELAY'] > 0) & (flights_air['DEPARTURE_DELAY'] > 0)].reset_index(drop=True)\n",
    "delay_Flights  \n",
    "# 1508147 total"
   ]
  },
  {
   "cell_type": "code",
   "execution_count": null,
   "metadata": {},
   "outputs": [],
   "source": [
    "# Further Narrow down the dataframe\n",
    "delay_Flights = delay_Flights[['AIRLINE_ID','AIRLINE','DATE','DAY_OF_WEEK','TAIL_NUMBER','FLIGHT_NUMBER','ORIGIN_AIRPORT',\n",
    "                                     'DESTINATION_AIRPORT','DEPARTURE_DELAY','ARRIVAL_DELAY']]\n",
    "delay_Flights.head(5)\n",
    "# We are going to merge this dataset with tweets below."
   ]
  },
  {
   "cell_type": "markdown",
   "metadata": {},
   "source": [
    "### Cancelled Flights"
   ]
  },
  {
   "cell_type": "code",
   "execution_count": null,
   "metadata": {},
   "outputs": [],
   "source": [
    "# Find out the values within the column\n",
    "flights_air['CANCELLED'].value_counts()"
   ]
  },
  {
   "cell_type": "code",
   "execution_count": null,
   "metadata": {},
   "outputs": [],
   "source": [
    "cancelled_flights = flights_air.loc[flights_air['CANCELLED']==1].reset_index(drop=True)"
   ]
  },
  {
   "cell_type": "code",
   "execution_count": null,
   "metadata": {},
   "outputs": [],
   "source": [
    "# Count total number of cancelled flights\n",
    "cancelled_flights.count()['CANCELLED']"
   ]
  },
  {
   "cell_type": "code",
   "execution_count": null,
   "metadata": {},
   "outputs": [],
   "source": [
    "# Remove irrelevant columns \n",
    "cancelled_flights = cancelled_flights[['AIRLINE_ID','AIRLINE','DATE','DAY_OF_WEEK','TAIL_NUMBER','FLIGHT_NUMBER','ORIGIN_AIRPORT',\n",
    "                                     'DESTINATION_AIRPORT','DEPARTURE_DELAY','ARRIVAL_DELAY']]\n",
    "cancelled_flights.head(5)"
   ]
  },
  {
   "cell_type": "markdown",
   "metadata": {},
   "source": [
    "# 4. Tweets data"
   ]
  },
  {
   "cell_type": "code",
   "execution_count": null,
   "metadata": {},
   "outputs": [],
   "source": [
    "tweets_file = \"./Resources/Tweets.csv\"\n",
    "tweets_df = pd.read_csv(tweets_file)\n",
    "tweets_df.head(5)"
   ]
  },
  {
   "cell_type": "code",
   "execution_count": null,
   "metadata": {},
   "outputs": [],
   "source": [
    "tweets_df = tweets_df[['tweet_id','airline_sentiment','negativereason','airline','tweet_created']]\n",
    "tweets_df.head(5)"
   ]
  },
  {
   "cell_type": "code",
   "execution_count": null,
   "metadata": {},
   "outputs": [],
   "source": [
    "tweets_df['airline'].value_counts()"
   ]
  },
  {
   "cell_type": "code",
   "execution_count": null,
   "metadata": {},
   "outputs": [],
   "source": [
    "# Update the airline Name so it matches the flights_df\n",
    "tweets_df.loc[tweets_df[\"airline\"] == \"American\", \"AIRLINE\"] = \"American Airlines Inc.\"\n",
    "tweets_df.loc[tweets_df[\"airline\"] == \"Delta\",    \"AIRLINE\"] = \"Delta Air Lines Inc.\"\n",
    "tweets_df.loc[tweets_df[\"airline\"] == \"Southwest\",\"AIRLINE\"] = \"Southwest Airlines Co.\"\n",
    "tweets_df.loc[tweets_df[\"airline\"] == \"US Airways\",\"AIRLINE\"] = \"US Airways Inc.\"\n",
    "tweets_df.loc[tweets_df[\"airline\"] == \"United\", \"AIRLINE\"] = \"United Air Lines Inc.\"\n",
    "tweets_df.loc[tweets_df[\"airline\"] == \"Virgin America\", \"AIRLINE\"] = \"Virgin America\""
   ]
  },
  {
   "cell_type": "code",
   "execution_count": null,
   "metadata": {},
   "outputs": [],
   "source": [
    "# # Clean the tweet_created column to get the Date\n",
    "# tweets_df['DATE'] = pd.to_datetime(tweets_df['tweet_created'])\n",
    "# tweets_df['DATE']=pd.DatetimeIndex(tweets_df['DATE']).date\n",
    "# tweets_df = tweets_df.drop(columns=['tweet_created','airline'])"
   ]
  },
  {
   "cell_type": "code",
   "execution_count": null,
   "metadata": {},
   "outputs": [],
   "source": [
    "# Another Method:\n",
    "# tweets_df['DATE'] = tweets_df['tweet_created'].str[0:10]\n",
    "# tweets_df['DATE'] = pd.to_datetime(tweets_df['DATE'])\n",
    "# tweets_df.head()\n",
    "# tweets_df = tweets_df.drop(columns=['tweet_created'])\n",
    "# tweets_df.dtypes"
   ]
  },
  {
   "cell_type": "code",
   "execution_count": null,
   "metadata": {},
   "outputs": [],
   "source": [
    "# replace NaN with \"No comments\"\n",
    "tweets_df['negativereason'] = tweets_df['negativereason'].fillna('No comments')\n",
    "tweets_df"
   ]
  },
  {
   "cell_type": "code",
   "execution_count": null,
   "metadata": {},
   "outputs": [],
   "source": [
    "tweets_df['AIRLINE'].value_counts()"
   ]
  },
  {
   "cell_type": "code",
   "execution_count": null,
   "metadata": {},
   "outputs": [],
   "source": [
    "tweets_df['airline_sentiment'].value_counts()"
   ]
  },
  {
   "cell_type": "code",
   "execution_count": null,
   "metadata": {},
   "outputs": [],
   "source": [
    "tweets_df.groupby(['AIRLINE','airline_sentiment']).count()\n",
    "# Apparently, United AirLines has the most negative reviews\n",
    "# Virgin America has the least nagative reviews"
   ]
  },
  {
   "cell_type": "code",
   "execution_count": null,
   "metadata": {},
   "outputs": [],
   "source": [
    "# If we want to change NaN valule to 0\n",
    "# tweets_df.loc[tweets_df['set_of_numbers'].isnull(),'value_is_NaN'] = 'Yes'\n",
    "# tweets_df.loc[tweets_df['set_of_numbers'].notnull(),'value_is_NaN'] = 'No'\n",
    "\n",
    "# count_nan = tweets_df.loc[tweets_df['value_is_NaN']=='Yes'].count()\n",
    "# print (count_nan)"
   ]
  },
  {
   "cell_type": "markdown",
   "metadata": {},
   "source": [
    "## Connect to MongoDB"
   ]
  },
  {
   "cell_type": "code",
   "execution_count": null,
   "metadata": {},
   "outputs": [],
   "source": [
    "import pymysql\n",
    "pymysql.install_as_MySQLdb()\n",
    "import pymongo\n",
    "import MySQLdb"
   ]
  },
  {
   "cell_type": "code",
   "execution_count": null,
   "metadata": {},
   "outputs": [],
   "source": [
    "conn = 'mongodb://localhost:27017'\n",
    "client = pymongo.MongoClient(conn)"
   ]
  },
  {
   "cell_type": "code",
   "execution_count": null,
   "metadata": {},
   "outputs": [],
   "source": [
    "db = client.flights_db"
   ]
  },
  {
   "cell_type": "code",
   "execution_count": null,
   "metadata": {},
   "outputs": [],
   "source": [
    "#airport code data\n",
    "for index,row in airports_df.iterrows():\n",
    "    print(row)\n",
    "    db.airports_df.insert_one(dict(row))"
   ]
  },
  {
   "cell_type": "code",
   "execution_count": null,
   "metadata": {},
   "outputs": [],
   "source": [
    "#tweet data table\n",
    "for index,row in tweets_df.iterrows():\n",
    "    print(row)\n",
    "    db.tweets_df.insert_one(dict(row))"
   ]
  },
  {
   "cell_type": "code",
   "execution_count": null,
   "metadata": {},
   "outputs": [],
   "source": [
    "#airline and flight delay tables merged\n",
    "for index,row in flights_air.iterrows():\n",
    "    print(row)\n",
    "    db.flight.insert_one(dict(row))\n",
    "    break"
   ]
  },
  {
   "cell_type": "code",
   "execution_count": null,
   "metadata": {},
   "outputs": [],
   "source": [
    "for item in db.flight.find():\n",
    "    print(item)"
   ]
  },
  {
   "cell_type": "code",
   "execution_count": null,
   "metadata": {},
   "outputs": [],
   "source": [
    "# db.flight.find()"
   ]
  }
 ],
 "metadata": {
  "kernelspec": {
   "display_name": "Python 3",
   "language": "python",
   "name": "python3"
  },
  "language_info": {
   "codemirror_mode": {
    "name": "ipython",
    "version": 3
   },
   "file_extension": ".py",
   "mimetype": "text/x-python",
   "name": "python",
   "nbconvert_exporter": "python",
   "pygments_lexer": "ipython3",
   "version": "3.8.3"
  }
 },
 "nbformat": 4,
 "nbformat_minor": 4
}
