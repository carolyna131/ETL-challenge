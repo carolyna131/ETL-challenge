{
 "cells": [
  {
   "cell_type": "code",
   "execution_count": 1,
   "metadata": {},
   "outputs": [],
   "source": [
    "import pandas as pd\n",
    "import numpy as np\n",
    "from sqlalchemy import create_engine\n",
    "import sqlite3"
   ]
  },
  {
   "cell_type": "markdown",
   "metadata": {},
   "source": [
    "## Store CSV into DataFrame, Extract & Transform\n",
    "*We have four csv file:*\n",
    "* Airline - has information about airline_id(IATA Code) and airline name;\n",
    "* Airport - has information about airport_id, airport,\tCITY\tSTATE\tCOUNTRY\tLATITUDE\tLONGITUDE"
   ]
  },
  {
   "cell_type": "code",
   "execution_count": 2,
   "metadata": {},
   "outputs": [
    {
     "data": {
      "text/html": [
       "<div>\n",
       "<style scoped>\n",
       "    .dataframe tbody tr th:only-of-type {\n",
       "        vertical-align: middle;\n",
       "    }\n",
       "\n",
       "    .dataframe tbody tr th {\n",
       "        vertical-align: top;\n",
       "    }\n",
       "\n",
       "    .dataframe thead th {\n",
       "        text-align: right;\n",
       "    }\n",
       "</style>\n",
       "<table border=\"1\" class=\"dataframe\">\n",
       "  <thead>\n",
       "    <tr style=\"text-align: right;\">\n",
       "      <th></th>\n",
       "      <th>IATA_CODE</th>\n",
       "      <th>AIRLINE</th>\n",
       "    </tr>\n",
       "  </thead>\n",
       "  <tbody>\n",
       "    <tr>\n",
       "      <th>0</th>\n",
       "      <td>UA</td>\n",
       "      <td>United Air Lines Inc.</td>\n",
       "    </tr>\n",
       "    <tr>\n",
       "      <th>1</th>\n",
       "      <td>AA</td>\n",
       "      <td>American Airlines Inc.</td>\n",
       "    </tr>\n",
       "    <tr>\n",
       "      <th>2</th>\n",
       "      <td>US</td>\n",
       "      <td>US Airways Inc.</td>\n",
       "    </tr>\n",
       "    <tr>\n",
       "      <th>3</th>\n",
       "      <td>F9</td>\n",
       "      <td>Frontier Airlines Inc.</td>\n",
       "    </tr>\n",
       "    <tr>\n",
       "      <th>4</th>\n",
       "      <td>B6</td>\n",
       "      <td>JetBlue Airways</td>\n",
       "    </tr>\n",
       "    <tr>\n",
       "      <th>5</th>\n",
       "      <td>OO</td>\n",
       "      <td>Skywest Airlines Inc.</td>\n",
       "    </tr>\n",
       "    <tr>\n",
       "      <th>6</th>\n",
       "      <td>AS</td>\n",
       "      <td>Alaska Airlines Inc.</td>\n",
       "    </tr>\n",
       "    <tr>\n",
       "      <th>7</th>\n",
       "      <td>NK</td>\n",
       "      <td>Spirit Air Lines</td>\n",
       "    </tr>\n",
       "    <tr>\n",
       "      <th>8</th>\n",
       "      <td>WN</td>\n",
       "      <td>Southwest Airlines Co.</td>\n",
       "    </tr>\n",
       "    <tr>\n",
       "      <th>9</th>\n",
       "      <td>DL</td>\n",
       "      <td>Delta Air Lines Inc.</td>\n",
       "    </tr>\n",
       "    <tr>\n",
       "      <th>10</th>\n",
       "      <td>EV</td>\n",
       "      <td>Atlantic Southeast Airlines</td>\n",
       "    </tr>\n",
       "    <tr>\n",
       "      <th>11</th>\n",
       "      <td>HA</td>\n",
       "      <td>Hawaiian Airlines Inc.</td>\n",
       "    </tr>\n",
       "    <tr>\n",
       "      <th>12</th>\n",
       "      <td>MQ</td>\n",
       "      <td>American Eagle Airlines Inc.</td>\n",
       "    </tr>\n",
       "    <tr>\n",
       "      <th>13</th>\n",
       "      <td>VX</td>\n",
       "      <td>Virgin America</td>\n",
       "    </tr>\n",
       "  </tbody>\n",
       "</table>\n",
       "</div>"
      ],
      "text/plain": [
       "   IATA_CODE                       AIRLINE\n",
       "0         UA         United Air Lines Inc.\n",
       "1         AA        American Airlines Inc.\n",
       "2         US               US Airways Inc.\n",
       "3         F9        Frontier Airlines Inc.\n",
       "4         B6               JetBlue Airways\n",
       "5         OO         Skywest Airlines Inc.\n",
       "6         AS          Alaska Airlines Inc.\n",
       "7         NK              Spirit Air Lines\n",
       "8         WN        Southwest Airlines Co.\n",
       "9         DL          Delta Air Lines Inc.\n",
       "10        EV   Atlantic Southeast Airlines\n",
       "11        HA        Hawaiian Airlines Inc.\n",
       "12        MQ  American Eagle Airlines Inc.\n",
       "13        VX                Virgin America"
      ]
     },
     "execution_count": 2,
     "metadata": {},
     "output_type": "execute_result"
    }
   ],
   "source": [
    "airline_file = \"./Resources/airlines.csv\"\n",
    "airline_df = pd.read_csv(airline_file)\n",
    "airline_df"
   ]
  },
  {
   "cell_type": "code",
   "execution_count": 5,
   "metadata": {},
   "outputs": [
    {
     "data": {
      "text/html": [
       "<div>\n",
       "<style scoped>\n",
       "    .dataframe tbody tr th:only-of-type {\n",
       "        vertical-align: middle;\n",
       "    }\n",
       "\n",
       "    .dataframe tbody tr th {\n",
       "        vertical-align: top;\n",
       "    }\n",
       "\n",
       "    .dataframe thead th {\n",
       "        text-align: right;\n",
       "    }\n",
       "</style>\n",
       "<table border=\"1\" class=\"dataframe\">\n",
       "  <thead>\n",
       "    <tr style=\"text-align: right;\">\n",
       "      <th></th>\n",
       "      <th>AIRLINE</th>\n",
       "    </tr>\n",
       "    <tr>\n",
       "      <th>AIRLINE_ID</th>\n",
       "      <th></th>\n",
       "    </tr>\n",
       "  </thead>\n",
       "  <tbody>\n",
       "    <tr>\n",
       "      <th>UA</th>\n",
       "      <td>United Air Lines Inc.</td>\n",
       "    </tr>\n",
       "    <tr>\n",
       "      <th>AA</th>\n",
       "      <td>American Airlines Inc.</td>\n",
       "    </tr>\n",
       "    <tr>\n",
       "      <th>US</th>\n",
       "      <td>US Airways Inc.</td>\n",
       "    </tr>\n",
       "    <tr>\n",
       "      <th>F9</th>\n",
       "      <td>Frontier Airlines Inc.</td>\n",
       "    </tr>\n",
       "    <tr>\n",
       "      <th>B6</th>\n",
       "      <td>JetBlue Airways</td>\n",
       "    </tr>\n",
       "    <tr>\n",
       "      <th>OO</th>\n",
       "      <td>Skywest Airlines Inc.</td>\n",
       "    </tr>\n",
       "    <tr>\n",
       "      <th>AS</th>\n",
       "      <td>Alaska Airlines Inc.</td>\n",
       "    </tr>\n",
       "    <tr>\n",
       "      <th>NK</th>\n",
       "      <td>Spirit Air Lines</td>\n",
       "    </tr>\n",
       "    <tr>\n",
       "      <th>WN</th>\n",
       "      <td>Southwest Airlines Co.</td>\n",
       "    </tr>\n",
       "    <tr>\n",
       "      <th>DL</th>\n",
       "      <td>Delta Air Lines Inc.</td>\n",
       "    </tr>\n",
       "    <tr>\n",
       "      <th>EV</th>\n",
       "      <td>Atlantic Southeast Airlines</td>\n",
       "    </tr>\n",
       "    <tr>\n",
       "      <th>HA</th>\n",
       "      <td>Hawaiian Airlines Inc.</td>\n",
       "    </tr>\n",
       "    <tr>\n",
       "      <th>MQ</th>\n",
       "      <td>American Eagle Airlines Inc.</td>\n",
       "    </tr>\n",
       "    <tr>\n",
       "      <th>VX</th>\n",
       "      <td>Virgin America</td>\n",
       "    </tr>\n",
       "  </tbody>\n",
       "</table>\n",
       "</div>"
      ],
      "text/plain": [
       "                                 AIRLINE\n",
       "AIRLINE_ID                              \n",
       "UA                 United Air Lines Inc.\n",
       "AA                American Airlines Inc.\n",
       "US                       US Airways Inc.\n",
       "F9                Frontier Airlines Inc.\n",
       "B6                       JetBlue Airways\n",
       "OO                 Skywest Airlines Inc.\n",
       "AS                  Alaska Airlines Inc.\n",
       "NK                      Spirit Air Lines\n",
       "WN                Southwest Airlines Co.\n",
       "DL                  Delta Air Lines Inc.\n",
       "EV           Atlantic Southeast Airlines\n",
       "HA                Hawaiian Airlines Inc.\n",
       "MQ          American Eagle Airlines Inc.\n",
       "VX                        Virgin America"
      ]
     },
     "execution_count": 5,
     "metadata": {},
     "output_type": "execute_result"
    }
   ],
   "source": [
    "airline_df.columns = ['AIRLINE_ID','AIRLINE']\n",
    "airline_df.set_index('AIRLINE_ID',inplace=True)\n",
    "airline_df"
   ]
  },
  {
   "cell_type": "code",
   "execution_count": null,
   "metadata": {},
   "outputs": [],
   "source": [
    "# Connect to sqlite"
   ]
  },
  {
   "cell_type": "code",
   "execution_count": 6,
   "metadata": {},
   "outputs": [
    {
     "data": {
      "text/plain": [
       "[('UA', 'United Air Lines Inc.'),\n",
       " ('AA', 'American Airlines Inc.'),\n",
       " ('US', 'US Airways Inc.'),\n",
       " ('F9', 'Frontier Airlines Inc.'),\n",
       " ('B6', 'JetBlue Airways'),\n",
       " ('OO', 'Skywest Airlines Inc.'),\n",
       " ('AS', 'Alaska Airlines Inc.'),\n",
       " ('NK', 'Spirit Air Lines'),\n",
       " ('WN', 'Southwest Airlines Co.'),\n",
       " ('DL', 'Delta Air Lines Inc.'),\n",
       " ('EV', 'Atlantic Southeast Airlines'),\n",
       " ('HA', 'Hawaiian Airlines Inc.'),\n",
       " ('MQ', 'American Eagle Airlines Inc.'),\n",
       " ('VX', 'Virgin America')]"
      ]
     },
     "execution_count": 6,
     "metadata": {},
     "output_type": "execute_result"
    }
   ],
   "source": [
    "engine = create_engine('sqlite://', echo=False)\n",
    "\n",
    "airline_df.to_sql('airline',con=engine)\n",
    "engine.execute(\"select * from airline\").fetchall()"
   ]
  },
  {
   "cell_type": "markdown",
   "metadata": {},
   "source": [
    "# Airport"
   ]
  },
  {
   "cell_type": "code",
   "execution_count": 10,
   "metadata": {},
   "outputs": [
    {
     "data": {
      "text/html": [
       "<div>\n",
       "<style scoped>\n",
       "    .dataframe tbody tr th:only-of-type {\n",
       "        vertical-align: middle;\n",
       "    }\n",
       "\n",
       "    .dataframe tbody tr th {\n",
       "        vertical-align: top;\n",
       "    }\n",
       "\n",
       "    .dataframe thead th {\n",
       "        text-align: right;\n",
       "    }\n",
       "</style>\n",
       "<table border=\"1\" class=\"dataframe\">\n",
       "  <thead>\n",
       "    <tr style=\"text-align: right;\">\n",
       "      <th></th>\n",
       "      <th>AIRPORT</th>\n",
       "      <th>CITY</th>\n",
       "      <th>STATE</th>\n",
       "      <th>COUNTRY</th>\n",
       "      <th>LATITUDE</th>\n",
       "      <th>LONGITUDE</th>\n",
       "    </tr>\n",
       "    <tr>\n",
       "      <th>AIRPORT_ID</th>\n",
       "      <th></th>\n",
       "      <th></th>\n",
       "      <th></th>\n",
       "      <th></th>\n",
       "      <th></th>\n",
       "      <th></th>\n",
       "    </tr>\n",
       "  </thead>\n",
       "  <tbody>\n",
       "    <tr>\n",
       "      <th>ABE</th>\n",
       "      <td>Lehigh Valley International Airport</td>\n",
       "      <td>Allentown</td>\n",
       "      <td>PA</td>\n",
       "      <td>USA</td>\n",
       "      <td>40.65236</td>\n",
       "      <td>-75.44040</td>\n",
       "    </tr>\n",
       "    <tr>\n",
       "      <th>ABI</th>\n",
       "      <td>Abilene Regional Airport</td>\n",
       "      <td>Abilene</td>\n",
       "      <td>TX</td>\n",
       "      <td>USA</td>\n",
       "      <td>32.41132</td>\n",
       "      <td>-99.68190</td>\n",
       "    </tr>\n",
       "    <tr>\n",
       "      <th>ABQ</th>\n",
       "      <td>Albuquerque International Sunport</td>\n",
       "      <td>Albuquerque</td>\n",
       "      <td>NM</td>\n",
       "      <td>USA</td>\n",
       "      <td>35.04022</td>\n",
       "      <td>-106.60919</td>\n",
       "    </tr>\n",
       "    <tr>\n",
       "      <th>ABR</th>\n",
       "      <td>Aberdeen Regional Airport</td>\n",
       "      <td>Aberdeen</td>\n",
       "      <td>SD</td>\n",
       "      <td>USA</td>\n",
       "      <td>45.44906</td>\n",
       "      <td>-98.42183</td>\n",
       "    </tr>\n",
       "    <tr>\n",
       "      <th>ABY</th>\n",
       "      <td>Southwest Georgia Regional Airport</td>\n",
       "      <td>Albany</td>\n",
       "      <td>GA</td>\n",
       "      <td>USA</td>\n",
       "      <td>31.53552</td>\n",
       "      <td>-84.19447</td>\n",
       "    </tr>\n",
       "  </tbody>\n",
       "</table>\n",
       "</div>"
      ],
      "text/plain": [
       "                                        AIRPORT         CITY STATE COUNTRY  \\\n",
       "AIRPORT_ID                                                                   \n",
       "ABE         Lehigh Valley International Airport    Allentown    PA     USA   \n",
       "ABI                    Abilene Regional Airport      Abilene    TX     USA   \n",
       "ABQ           Albuquerque International Sunport  Albuquerque    NM     USA   \n",
       "ABR                   Aberdeen Regional Airport     Aberdeen    SD     USA   \n",
       "ABY          Southwest Georgia Regional Airport       Albany    GA     USA   \n",
       "\n",
       "            LATITUDE  LONGITUDE  \n",
       "AIRPORT_ID                       \n",
       "ABE         40.65236  -75.44040  \n",
       "ABI         32.41132  -99.68190  \n",
       "ABQ         35.04022 -106.60919  \n",
       "ABR         45.44906  -98.42183  \n",
       "ABY         31.53552  -84.19447  "
      ]
     },
     "execution_count": 10,
     "metadata": {},
     "output_type": "execute_result"
    }
   ],
   "source": [
    "airports_file = \"./Resources/airports.csv\"\n",
    "airports_df = pd.read_csv(airports_file)\n",
    "airports_df.columns =['AIRPORT_ID','AIRPORT','CITY','STATE','COUNTRY','LATITUDE','LONGITUDE']\n",
    "airports_df.set_index('AIRPORT_ID',inplace=True)\n",
    "airports_df.head()"
   ]
  },
  {
   "cell_type": "code",
   "execution_count": 11,
   "metadata": {},
   "outputs": [
    {
     "data": {
      "text/plain": [
       "[('ABE', 'Lehigh Valley International Airport', 'Allentown', 'PA', 'USA', 40.652359999999994, -75.4404),\n",
       " ('ABI', 'Abilene Regional Airport', 'Abilene', 'TX', 'USA', 32.41132, -99.6819),\n",
       " ('ABQ', 'Albuquerque International Sunport', 'Albuquerque', 'NM', 'USA', 35.04022, -106.60918999999998),\n",
       " ('ABR', 'Aberdeen Regional Airport', 'Aberdeen', 'SD', 'USA', 45.449059999999996, -98.42183),\n",
       " ('ABY', 'Southwest Georgia Regional Airport', 'Albany', 'GA', 'USA', 31.53552, -84.19447),\n",
       " ('ACK', 'Nantucket Memorial Airport', 'Nantucket', 'MA', 'USA', 41.25305, -70.06018),\n",
       " ('ACT', 'Waco Regional Airport', 'Waco', 'TX', 'USA', 31.611290000000004, -97.23052),\n",
       " ('ACV', 'Arcata Airport', 'Arcata/Eureka', 'CA', 'USA', 40.978120000000004, -124.10862),\n",
       " ('ACY', 'Atlantic City International Airport', 'Atlantic City', 'NJ', 'USA', 39.45758, -74.57717),\n",
       " ('ADK', 'Adak Airport', 'Adak', 'AK', 'USA', 51.877959999999995, -176.64603),\n",
       " ('ADQ', 'Kodiak Airport', 'Kodiak', 'AK', 'USA', 57.74997, -152.49386),\n",
       " ('AEX', 'Alexandria International Airport', 'Alexandria', 'LA', 'USA', 31.327370000000002, -92.54856),\n",
       " ('AGS', 'Augusta Regional Airport\\xa0(Bush Field)', 'Augusta', 'GA', 'USA', 33.36996, -81.9645),\n",
       " ('AKN', 'King Salmon Airport', 'King Salmon', 'AK', 'USA', 58.6768, -156.64921999999999),\n",
       " ('ALB', 'Albany International Airport', 'Albany', 'NY', 'USA', 42.74812, -73.80298),\n",
       " ('ALO', 'Waterloo Regional Airport', 'Waterloo', 'IA', 'USA', 42.55708, -92.40034),\n",
       " ('AMA', 'Rick Husband Amarillo International Airport', 'Amarillo', 'TX', 'USA', 35.21937, -101.70593000000001),\n",
       " ('ANC', 'Ted Stevens Anchorage International Airport', 'Anchorage', 'AK', 'USA', 61.174319999999994, -149.99618999999998),\n",
       " ('APN', 'Alpena County Regional Airport', 'Alpena', 'MI', 'USA', 45.078070000000004, -83.56029000000001),\n",
       " ('ASE', 'Aspen-Pitkin County Airport', 'Aspen', 'CO', 'USA', 39.22316, -106.86885),\n",
       " ('ATL', 'Hartsfield-Jackson Atlanta International Airport', 'Atlanta', 'GA', 'USA', 33.640440000000005, -84.42694),\n",
       " ('ATW', 'Appleton International Airport', 'Appleton', 'WI', 'USA', 44.25741, -88.51948),\n",
       " ('AUS', 'Austin-Bergstrom International Airport', 'Austin', 'TX', 'USA', 30.19453, -97.66986999999999),\n",
       " ('AVL', 'Asheville Regional Airport', 'Asheville', 'NC', 'USA', 35.43619, -82.54181),\n",
       " ('AVP', 'Wilkes-Barre/Scranton International Airport', 'Wilkes-Barre/Scranton', 'PA', 'USA', 41.33815, -75.72426999999999),\n",
       " ('AZO', 'Kalamazoo/Battle Creek International Airport', 'Kalamazoo', 'MI', 'USA', 42.23488, -85.55206),\n",
       " ('BDL', 'Bradley International Airport', 'Windsor Locks', 'CT', 'USA', 41.93887, -72.68323000000001),\n",
       " ('BET', 'Bethel Airport', 'Bethel', 'AK', 'USA', 60.77978, -161.838),\n",
       " ('BFL', 'Meadows Field', 'Bakersfield', 'CA', 'USA', 35.4336, -119.05677),\n",
       " ('BGM', 'Greater Binghamton Airport', 'Binghamton', 'NY', 'USA', 42.20848, -75.97961),\n",
       " ('BGR', 'Bangor International Airport', 'Bangor', 'ME', 'USA', 44.80744, -68.82814),\n",
       " ('BHM', 'Birmingham-Shuttlesworth International Airport', 'Birmingham', 'AL', 'USA', 33.562940000000005, -86.75355),\n",
       " ('BIL', 'Billings Logan International Airport', 'Billings', 'MT', 'USA', 45.80766, -108.54286),\n",
       " ('BIS', 'Bismarck Municipal Airport', 'Bismarck', 'ND', 'USA', 46.77411, -100.74672),\n",
       " ('BJI', 'Bemidji Regional Airport', 'Bemidji', 'MN', 'USA', 47.50942, -94.93372),\n",
       " ('BLI', 'Bellingham International Airport', 'Bellingham', 'WA', 'USA', 48.79275, -122.53753),\n",
       " ('BMI', 'Central Illinois Regional Airport at Bloomington-Normal', 'Bloomington', 'IL', 'USA', 40.477990000000005, -88.91595),\n",
       " ('BNA', 'Nashville International Airport', 'Nashville', 'TN', 'USA', 36.12448, -86.67818),\n",
       " ('BOI', 'Boise Airport\\xa0(Boise Air Terminal)', 'Boise', 'ID', 'USA', 43.564440000000005, -116.22278),\n",
       " ('BOS', 'Gen. Edward Lawrence Logan International Airport', 'Boston', 'MA', 'USA', 42.36435, -71.00518000000001),\n",
       " ('BPT', 'Jack Brooks Regional Airport\\xa0(Southeast Texas Regional)', 'Beaumont/Port Arthur', 'TX', 'USA', 29.95083, -94.02069),\n",
       " ('BQK', 'Brunswick Golden Isles Airport', 'Brunswick', 'GA', 'USA', 31.25903, -81.46631),\n",
       " ('BQN', 'Rafael Hernández Airport', 'Aguadilla', 'PR', 'USA', 18.49486, -67.12944),\n",
       " ('BRD', 'Brainerd Lakes Regional Airport', 'Brainerd', 'MN', 'USA', 46.397859999999994, -94.13723),\n",
       " ('BRO', 'Brownsville/South Padre Island International Airport', 'Brownsville', 'TX', 'USA', 25.90683, -97.42586),\n",
       " ('BRW', 'Wiley Post-Will Rogers Memorial Airport', 'Barrow', 'AK', 'USA', 71.28545, -156.766),\n",
       " ('BTM', 'Bert Mooney Airport', 'Butte', 'MT', 'USA', 45.9548, -112.49746),\n",
       " ('BTR', 'Baton Rouge Metropolitan Airport', 'Baton Rouge', 'LA', 'USA', 30.53316, -91.14963),\n",
       " ('BTV', 'Burlington International Airport', 'Burlington', 'VT', 'USA', 44.473, -73.15031),\n",
       " ('BUF', 'Buffalo Niagara International Airport', 'Buffalo', 'NY', 'USA', 42.94052, -78.73217),\n",
       " ('BUR', 'Bob Hope Airport\\xa0(Hollywood Burbank Airport)', 'Burbank', 'CA', 'USA', 34.20062, -118.3585),\n",
       " ('BWI', 'Baltimore-Washington International Airport', 'Baltimore', 'MD', 'USA', 39.1754, -76.6682),\n",
       " ('BZN', 'Bozeman Yellowstone International Airport\\xa0(Gallatin Field Airport)', 'Bozeman', 'MT', 'USA', 45.7769, -111.15301000000001),\n",
       " ('CAE', 'Columbia Metropolitan Airport', 'Columbia', 'SC', 'USA', 33.93884, -81.11954),\n",
       " ('CAK', 'Akron-Canton Regional Airport', 'Akron', 'OH', 'USA', 40.916309999999996, -81.44247),\n",
       " ('CDC', 'Cedar City Regional Airport', 'Cedar City', 'UT', 'USA', 37.70097, -113.09858),\n",
       " ('CDV', 'Merle K. (Mudhole) Smith Airport', 'Cordova', 'AK', 'USA', 60.49183000000001, -145.47765),\n",
       " ('CEC', 'Del Norte County Airport\\xa0(Jack McNamara Field)', 'Crescent City', 'CA', 'USA', 41.780159999999995, -124.23653),\n",
       " ('CHA', 'Chattanooga Metropolitan Airport\\xa0(Lovell Field)', 'Chattanooga', 'TN', 'USA', 35.035270000000004, -85.20379),\n",
       " ('CHO', 'Charlottesville-Albemarle Airport', 'Charlottesville', 'VA', 'USA', 38.13864, -78.45286),\n",
       " ('CHS', 'Charleston International Airport/Charleston AFB', 'Charleston', 'SC', 'USA', 32.89865, -80.04051),\n",
       " ('CID', 'The Eastern Iowa Airport', 'Cedar Rapids', 'IA', 'USA', 41.88459, -91.71087),\n",
       " ('CIU', 'Chippewa County International Airport', 'Sault Ste. Marie', 'MI', 'USA', 46.25075, -84.47239),\n",
       " ('CLD', 'McClellan-Palomar Airport', 'San Diego', 'CA', 'USA', 33.12723, -117.27873000000001),\n",
       " ('CLE', 'Cleveland Hopkins International Airport', 'Cleveland', 'OH', 'USA', 41.41089, -81.8494),\n",
       " ('CLL', 'Easterwood Airport', 'College Station', 'TX', 'USA', 30.588590000000003, -96.36381999999999),\n",
       " ('CLT', 'Charlotte Douglas International Airport', 'Charlotte', 'NC', 'USA', 35.214009999999995, -80.94313000000001),\n",
       " ('CMH', 'Port Columbus International Airport', 'Columbus', 'OH', 'USA', 39.99799, -82.89188),\n",
       " ('CMI', 'University of Illinois - Willard Airport', 'Champaign/Urbana', 'IL', 'USA', 40.03925, -88.27806),\n",
       " ('CMX', 'Houghton County Memorial Airport', 'Hancock', 'MI', 'USA', 47.168420000000005, -88.48906),\n",
       " ('CNY', 'Canyonlands Field', 'Moab', 'UT', 'USA', 38.75496, -109.75483999999999),\n",
       " ('COD', 'Yellowstone Regional Airport', 'Cody', 'WY', 'USA', 44.52019, -109.0238),\n",
       " ('COS', 'City of Colorado Springs Municipal Airport', 'Colorado Springs', 'CO', 'USA', 38.80581, -104.70025),\n",
       " ('COU', 'Columbia Regional Airport', 'Columbia', 'MO', 'USA', 38.818090000000005, -92.21963000000001),\n",
       " ('CPR', 'Natrona County International Airport', 'Casper', 'WY', 'USA', 42.908359999999995, -106.46446999999999),\n",
       " ('CRP', 'Corpus Christi International Airport', 'Corpus Christi', 'TX', 'USA', 27.770359999999997, -97.50121999999999),\n",
       " ('CRW', 'Yeager Airport', 'Charleston', 'WV', 'USA', 38.37315, -81.59319),\n",
       " ('CSG', 'Columbus Metropolitan Airport', 'Columbus', 'GA', 'USA', 32.516329999999996, -84.93885999999999),\n",
       " ('CVG', 'Cincinnati/Northern Kentucky International Airport', 'Covington', 'KY', 'USA', 39.04614, -84.66216999999999),\n",
       " ('CWA', 'Central Wisconsin Airport', 'Mosinee', 'WI', 'USA', 44.77762, -89.66678),\n",
       " ('DAB', 'Daytona Beach International Airport', 'Daytona Beach', 'FL', 'USA', 29.179920000000003, -81.05806),\n",
       " ('DAL', 'Dallas Love Field', 'Dallas', 'TX', 'USA', 32.84711, -96.85177),\n",
       " ('DAY', 'James M. Cox Dayton International Airport', 'Dayton', 'OH', 'USA', 39.90238, -84.21938),\n",
       " ('DBQ', 'Dubuque Regional Airport', 'Dubuque', 'IA', 'USA', 42.40296, -90.70917),\n",
       " ('DCA', 'Ronald Reagan Washington National Airport', 'Arlington', 'VA', 'USA', 38.85208, -77.03772),\n",
       " ('DEN', 'Denver International Airport', 'Denver', 'CO', 'USA', 39.85841, -104.667),\n",
       " ('DFW', 'Dallas/Fort Worth International Airport', 'Dallas-Fort Worth', 'TX', 'USA', 32.89595, -97.0372),\n",
       " ('DHN', 'Dothan Regional Airport', 'Dothan', 'AL', 'USA', 31.321340000000003, -85.44963),\n",
       " ('DIK', 'Dickinson Theodore Roosevelt Regional Airport', 'Dickinson', 'ND', 'USA', 46.79739, -102.80195),\n",
       " ('DLG', 'Dillingham Airport', 'Dillingham', 'AK', 'USA', 59.04541, -158.50333999999998),\n",
       " ('DLH', 'Duluth International Airport', 'Duluth', 'MN', 'USA', 46.84209, -92.19365),\n",
       " ('DRO', 'Durango-La Plata County Airport', 'Durango', 'CO', 'USA', 37.15152, -107.75376999999999),\n",
       " ('DSM', 'Des Moines International Airport', 'Des Moines', 'IA', 'USA', 41.534929999999996, -93.66068),\n",
       " ('DTW', 'Detroit Metropolitan Airport', 'Detroit', 'MI', 'USA', 42.21206, -83.34884),\n",
       " ('DVL', 'Devils Lake Regional Airport', 'Devils Lake', 'ND', 'USA', 48.11425, -98.90878000000001),\n",
       " ('EAU', 'Chippewa Valley Regional Airport', 'Eau Claire', 'WI', 'USA', 44.86526, -91.48507),\n",
       " ('ECP', 'Northwest Florida Beaches International Airport', 'Panama City', 'FL', 'USA', None, None),\n",
       " ('EGE', 'Eagle County Regional Airport', 'Eagle', 'CO', 'USA', 39.64257, -106.9177),\n",
       " ('EKO', 'Elko Regional Airport', 'Elko', 'NV', 'USA', 40.82493, -115.7917),\n",
       " ('ELM', 'Elmira/Corning Regional Airport', 'Elmira', 'NY', 'USA', 42.159909999999996, -76.89144),\n",
       " ('ELP', 'El Paso International Airport', 'El Paso', 'TX', 'USA', 31.80667, -106.37781000000001),\n",
       " ('ERI', 'Erie International Airport', 'Erie', 'PA', 'USA', 42.08202, -80.17622),\n",
       " ('ESC', 'Delta County Airport', 'Escanaba', 'MI', 'USA', 45.72267, -87.09373000000001),\n",
       " ('EUG', 'Eugene Airport\\xa0(Mahlon Sweet Field)', 'Eugene', 'OR', 'USA', 44.123259999999995, -123.21869),\n",
       " ('EVV', 'Evansville Regional Airport', 'Evansville', 'IN', 'USA', 38.03799, -87.53063),\n",
       " ('EWN', 'Coastal Carolina Regional Airport\\xa0(Craven County Regional)', 'New Bern', 'NC', 'USA', 35.07297, -77.04294),\n",
       " ('EWR', 'Newark Liberty International Airport', 'Newark', 'NJ', 'USA', 40.6925, -74.16866),\n",
       " ('EYW', 'Key West International Airport', 'Key West', 'FL', 'USA', 24.55611, -81.75956),\n",
       " ('FAI', 'Fairbanks International Airport', 'Fairbanks', 'AK', 'USA', 64.81368, -147.85967),\n",
       " ('FAR', 'Hector International Airport', 'Fargo', 'ND', 'USA', 46.91935, -96.81499000000001),\n",
       " ('FAT', 'Fresno Yosemite International Airport', 'Fresno', 'CA', 'USA', 36.77619, -119.71813999999999),\n",
       " ('FAY', 'Fayetteville Regional Airport', 'Fayetteville', 'NC', 'USA', 34.99147, -78.88),\n",
       " ('FCA', 'Glacier Park International Airport', 'Kalispell', 'MT', 'USA', 48.3114, -114.25506999999999),\n",
       " ('FLG', 'Flagstaff Pulliam Airport', 'Flagstaff', 'AZ', 'USA', 35.13845, -111.67121999999999),\n",
       " ('FLL', 'Fort Lauderdale-Hollywood International Airport', 'Ft. Lauderdale', 'FL', 'USA', 26.07258, -80.15275),\n",
       " ('FNT', 'Bishop International Airport', 'Flint', 'MI', 'USA', 42.9655, -83.74346),\n",
       " ('FSD', 'Sioux Falls Regional Airport', 'Sioux Falls', 'SD', 'USA', 43.58135, -96.7417),\n",
       " ('FSM', 'Fort Smith Regional Airport', 'Fort Smith', 'AR', 'USA', 35.33659, -94.36744),\n",
       " ('FWA', 'Fort Wayne International Airport', 'Fort Wayne', 'IN', 'USA', 40.97847, -85.19515),\n",
       " ('GCC', 'Gillette-Campbell County Airport', 'Gillette', 'WY', 'USA', 44.3489, -105.53936000000002),\n",
       " ('GCK', 'Garden City Regional Airport', 'Garden City', 'KS', 'USA', 37.92752, -100.72440999999999),\n",
       " ('GEG', 'Spokane International Airport', 'Spokane', 'WA', 'USA', 47.619859999999996, -117.53383999999998),\n",
       " ('GFK', 'Grand Forks International Airport', 'Grand Forks', 'ND', 'USA', 47.949259999999995, -97.17611),\n",
       " ('GGG', 'East Texas Regional Airport', 'Longview', 'TX', 'USA', 32.384859999999996, -94.71171),\n",
       " ('GJT', 'Grand Junction Regional Airport\\xa0(Walker Field)', 'Grand Junction', 'CO', 'USA', 39.122409999999995, -108.52673),\n",
       " ('GNV', 'Gainesville Regional Airport', 'Gainesville', 'FL', 'USA', 29.69006, -82.27178),\n",
       " ('GPT', 'Gulfport-Biloxi International Airport', 'Gulfport-Biloxi', 'MS', 'USA', 30.40728, -89.07009000000001),\n",
       " ('GRB', 'Green Bay-Austin Straubel International Airport', 'Green Bay', 'WI', 'USA', 44.48507, -88.12959000000001),\n",
       " ('GRI', 'Central Nebraska Regional Airport', 'Grand Island', 'NE', 'USA', 40.96747, -98.30861),\n",
       " ('GRK', 'Killeen-Fort Hood Regional Airport', 'Killeen', 'TX', 'USA', 31.0649, -97.8278),\n",
       " ('GRR', 'Gerald R. Ford International Airport', 'Grand Rapids', 'MI', 'USA', 42.88082, -85.52277),\n",
       " ('GSO', 'Piedmont Triad International Airport', 'Greensboro', 'NC', 'USA', 36.09775, -79.9373),\n",
       " ('GSP', 'Greenville-Spartanburg International Airport', 'Greer', 'SC', 'USA', 34.89567, -82.21885999999999),\n",
       " ('GST', 'Gustavus Airport', 'Gustavus', 'AK', 'USA', 58.424380000000006, -135.70738),\n",
       " ('GTF', 'Great Falls International Airport', 'Great Falls', 'MT', 'USA', 47.482, -111.37069),\n",
       " ('GTR', 'Golden Triangle Regional Airport', 'Columbus-Starkville-West Point', 'MS', 'USA', 33.45033, -88.59137),\n",
       " ('GUC', 'Gunnison-Crested Butte Regional Airport', 'Gunnison', 'CO', 'USA', 38.53396, -106.93318000000001),\n",
       " ('GUM', 'Guam International Airport', 'Agana', 'GU', 'USA', 13.48345, -144.79598000000001),\n",
       " ('HDN', 'Yampa Valley Airport\\xa0(Yampa Valley Regional)', 'Hayden', 'CO', 'USA', 40.48118, -107.21766000000001),\n",
       " ('HIB', 'Range Regional Airport\\xa0(Chisholm-Hibbing Airport)', 'Hibbing', 'MN', 'USA', 47.3866, -92.83899),\n",
       " ('HLN', 'Helena Regional Airport', 'Helena', 'MT', 'USA', 46.60682, -111.98275),\n",
       " ('HNL', 'Honolulu International Airport', 'Honolulu', 'HI', 'USA', 21.31869, -157.92241),\n",
       " ('HOB', 'Lea County Regional Airport', 'Hobbs', 'NM', 'USA', 32.687529999999995, -103.21703000000001),\n",
       " ('HOU', 'William P. Hobby Airport', 'Houston', 'TX', 'USA', 29.64542, -95.27889),\n",
       " ('HPN', 'Westchester County Airport', 'White Plains', 'NY', 'USA', 41.066959999999995, -73.70756999999999),\n",
       " ('HRL', 'Valley International Airport', 'Harlingen', 'TX', 'USA', 26.228509999999996, -97.65439),\n",
       " ('HSV', 'Huntsville International Airport', 'Huntsville', 'AL', 'USA', 34.64045, -86.77311),\n",
       " ('HYA', 'Barnstable Municipal Airport', 'Hyannis', 'MA', 'USA', 41.669340000000005, -70.28036),\n",
       " ('HYS', 'Hays Regional Airport', 'Hays', 'KS', 'USA', 38.84494, -99.27403000000001),\n",
       " ('IAD', 'Washington Dulles International Airport', 'Chantilly', 'VA', 'USA', 38.94453, -77.45581),\n",
       " ('IAG', 'Niagara Falls International Airport', 'Niagara Falls', 'NY', 'USA', 43.10726, -78.94538),\n",
       " ('IAH', 'George Bush Intercontinental Airport', 'Houston', 'TX', 'USA', 29.98047, -95.33972),\n",
       " ('ICT', 'Wichita Dwight D. Eisenhower National Airport\\xa0(Wichita Mid-Continent Airport)', 'Wichita', 'KS', 'USA', 37.64996, -97.43305),\n",
       " ('IDA', 'Idaho Falls Regional Airport', 'Idaho Falls', 'ID', 'USA', 43.514559999999996, -112.07016999999999),\n",
       " ('ILG', 'Wilmington Airport', 'Wilmington', 'DE', 'USA', 39.67872, -75.60653),\n",
       " ('ILM', 'Wilmington International Airport', 'Wilmington', 'NC', 'USA', 34.27061, -77.90256),\n",
       " ('IMT', 'Ford Airport', 'Iron Mountain/Kingsford', 'MI', 'USA', 45.81835, -88.11454),\n",
       " ('IND', 'Indianapolis International Airport', 'Indianapolis', 'IN', 'USA', 39.71733, -86.29438),\n",
       " ('INL', 'Falls International Airport', 'International Falls', 'MN', 'USA', 48.56619, -93.40307),\n",
       " ('ISN', 'Sloulin Field International Airport', 'Williston', 'ND', 'USA', 48.17794, -103.64235),\n",
       " ('ISP', 'Long Island MacArthur Airport', 'Islip', 'NY', 'USA', 40.79524, -73.10021),\n",
       " ('ITH', 'Ithaca Tompkins Regional Airport', 'Ithaca', 'NY', 'USA', 42.49103, -76.45844),\n",
       " ('ITO', 'Hilo International Airport', 'Hilo', 'HI', 'USA', 19.72026, -155.04847),\n",
       " ('JAC', 'Jackson Hole Airport', 'Jackson', 'WY', 'USA', 43.60732, -110.73773999999999),\n",
       " ('JAN', 'Jackson-Evers International Airport', 'Jackson', 'MS', 'USA', 32.311170000000004, -90.07589),\n",
       " ('JAX', 'Jacksonville International Airport', 'Jacksonville', 'FL', 'USA', 30.494059999999998, -81.68786),\n",
       " ('JFK', 'John F. Kennedy International Airport\\xa0(New York International Airport)', 'New York', 'NY', 'USA', 40.63975, -73.77893),\n",
       " ('JLN', 'Joplin Regional Airport', 'Joplin', 'MO', 'USA', 37.15181, -94.49826999999999),\n",
       " ('JMS', 'Jamestown Regional Airport', 'Jamestown', 'ND', 'USA', 46.92972, -98.6782),\n",
       " ('JNU', 'Juneau International Airport', 'Juneau', 'AK', 'USA', 58.35496, -134.57628),\n",
       " ('KOA', 'Kona International Airport at Keahole', 'Kailua/Kona', 'HI', 'USA', 19.738770000000002, -156.04563000000002),\n",
       " ('KTN', 'Ketchikan International Airport', 'Ketchikan', 'AK', 'USA', 55.35556999999999, -131.71374),\n",
       " ('LAN', 'Capital Region International Airport\\xa0( Lansing Capital City)', 'Lansing', 'MI', 'USA', 42.7787, -84.58736),\n",
       " ('LAR', 'Laramie Regional Airport', 'Laramie', 'WY', 'USA', 41.31205, -105.67499),\n",
       " ('LAS', 'McCarran International Airport', 'Las Vegas', 'NV', 'USA', 36.08036, -115.15233),\n",
       " ('LAW', 'Lawton-Fort Sill Regional Airport', 'Lawton', 'OK', 'USA', 34.56771, -98.41664),\n",
       " ('LAX', 'Los Angeles International Airport', 'Los Angeles', 'CA', 'USA', 33.94254, -118.40807),\n",
       " ('LBB', 'Lubbock Preston Smith International Airport', 'Lubbock', 'TX', 'USA', 33.66364, -101.82278000000001),\n",
       " ('LBE', 'Arnold Palmer Regional Airport', 'Latrobe', 'PA', 'USA', 40.275940000000006, -79.4048),\n",
       " ('LCH', 'Lake Charles Regional Airport', 'Lake Charles', 'LA', 'USA', 30.1261, -93.2234),\n",
       " ('LEX', 'Blue Grass Airport', 'Lexington', 'KY', 'USA', 38.036970000000004, -84.60539),\n",
       " ('LFT', 'Lafayette Regional Airport', 'Lafayette', 'LA', 'USA', 30.20528, -91.98765999999999),\n",
       " ('LGA', 'LaGuardia Airport (Marine Air Terminal)', 'New York', 'NY', 'USA', 40.77724, -73.87261),\n",
       " ('LGB', 'Long Beach Airport\\xa0(Daugherty Field)', 'Long Beach', 'CA', 'USA', 33.81772, -118.15161),\n",
       " ('LIH', 'Lihue Airport', 'Lihue', 'HI', 'USA', 21.97598, -159.33896000000001),\n",
       " ('LIT', 'Bill and Hillary Clinton National Airport\\xa0(Adams Field)', 'Little Rock', 'AR', 'USA', 34.7294, -92.22425),\n",
       " ('LNK', 'Lincoln Airport\\xa0(Lincoln Municipal)', 'Lincoln', 'NE', 'USA', 40.850970000000004, -96.75925),\n",
       " ('LRD', 'Laredo International Airport', 'Laredo', 'TX', 'USA', 27.543740000000003, -99.46154),\n",
       " ('LSE', 'La Crosse Regional Airport', 'La Crosse', 'WI', 'USA', 43.87938, -91.25654),\n",
       " ('LWS', 'Lewiston-Nez Perce County Airport', 'Lewiston', 'ID', 'USA', 46.3745, -117.01539),\n",
       " ('MAF', 'Midland International Airport', 'Midland', 'TX', 'USA', 31.942529999999998, -102.20191),\n",
       " ('MBS', 'MBS International Airport', 'Saginaw', 'MI', 'USA', 43.53291, -84.07965),\n",
       " ('MCI', 'Kansas City International Airport', 'Kansas City', 'MO', 'USA', 39.29761, -94.71391),\n",
       " ('MCO', 'Orlando International Airport', 'Orlando', 'FL', 'USA', 28.428890000000003, -81.31603),\n",
       " ('MDT', 'Harrisburg International Airport', 'Harrisburg', 'PA', 'USA', 40.1935, -76.7634),\n",
       " ('MDW', 'Chicago Midway International Airport', 'Chicago', 'IL', 'USA', 41.78598, -87.75242),\n",
       " ('MEI', 'Meridian Regional Airport', 'Meridian', 'MS', 'USA', 32.33313, -88.75121),\n",
       " ('MEM', 'Memphis International Airport', 'Memphis', 'TN', 'USA', 35.04242, -89.97667),\n",
       " ('MFE', 'McAllen-Miller International Airport\\xa0(McAllen Miller International)', 'McAllen', 'TX', 'USA', 26.175829999999998, -98.23861),\n",
       " ('MFR', 'Rogue Valley International Airport', 'Medford', 'OR', 'USA', 42.37423, -122.8735),\n",
       " ('MGM', 'Montgomery Regional Airport', 'Montgomery', 'AL', 'USA', 32.30064, -86.39398),\n",
       " ('MHK', 'Manhattan Regional Airport', 'Manhattan', 'KS', 'USA', 39.14097, -96.67083000000001),\n",
       " ('MHT', 'Manchester-Boston Regional Airport', 'Manchester', 'NH', 'USA', 42.93452, -71.43706),\n",
       " ('MIA', 'Miami International Airport', 'Miami', 'FL', 'USA', 25.79325, -80.29056),\n",
       " ('MKE', 'General Mitchell International Airport', 'Milwaukee', 'WI', 'USA', 42.94722, -87.89658),\n",
       " ('MKG', 'Muskegon County Airport', 'Muskegon', 'MI', 'USA', 43.16949, -86.23822),\n",
       " ('MLB', 'Melbourne International Airport', 'Melbourne', 'FL', 'USA', 28.10275, -80.64581),\n",
       " ('MLI', 'Quad City International Airport', 'Moline', 'IL', 'USA', 41.44853, -90.50754),\n",
       " ('MLU', 'Monroe Regional Airport', 'Monroe', 'LA', 'USA', 32.510870000000004, -92.03769),\n",
       " ('MMH', 'Mammoth Yosemite Airport', 'Mammoth Lakes', 'CA', 'USA', 37.62405, -118.83776999999999),\n",
       " ('MOB', 'Mobile Regional Airport', 'Mobile', 'AL', 'USA', 30.69142, -88.24283),\n",
       " ('MOT', 'Minot International Airport', 'Minot', 'ND', 'USA', 48.25938, -101.28033),\n",
       " ('MQT', 'Sawyer International Airport', 'Marquette', 'MI', 'USA', 46.353640000000006, -87.39536),\n",
       " ('MRY', 'Monterey Regional Airport\\xa0(Monterey Peninsula Airport)', 'Monterey', 'CA', 'USA', 36.58698, -121.84295),\n",
       " ('MSN', 'Dane County Regional Airport', 'Madison', 'WI', 'USA', 43.13986, -89.33751),\n",
       " ('MSO', 'Missoula International Airport', 'Missoula', 'MT', 'USA', 46.916309999999996, -114.09056000000001),\n",
       " ('MSP', 'Minneapolis-Saint Paul International Airport', 'Minneapolis', 'MN', 'USA', 44.88055, -93.21692),\n",
       " ('MSY', 'Louis Armstrong New Orleans International Airport', 'New Orleans', 'LA', 'USA', 29.99339, -90.25803),\n",
       " ('MTJ', 'Montrose Regional Airport', 'Montrose', 'CO', 'USA', 38.50887, -107.89383000000001),\n",
       " ('MVY', \"Martha's Vineyard Airport\", 'Marthas Vineyard', 'MA', 'USA', 41.393029999999996, -70.61433000000001),\n",
       " ('MYR', 'Myrtle Beach International Airport', 'Myrtle Beach', 'SC', 'USA', 33.67975, -78.92833),\n",
       " ('OAJ', 'Albert J. Ellis Airport', 'Jacksonville', 'NC', 'USA', 34.829159999999995, -77.61214),\n",
       " ('OAK', 'Oakland International Airport', 'Oakland', 'CA', 'USA', 37.72129, -122.22072),\n",
       " ('OGG', 'Kahului Airport', 'Kahului', 'HI', 'USA', 20.89865, -156.43046),\n",
       " ('OKC', 'Will Rogers World Airport', 'Oklahoma City', 'OK', 'USA', 35.39309, -97.60073),\n",
       " ('OMA', 'Eppley Airfield', 'Omaha', 'NE', 'USA', 41.30252, -95.89416999999999),\n",
       " ('OME', 'Nome Airport', 'Nome', 'AK', 'USA', 64.5122, -165.44525),\n",
       " ('ONT', 'Ontario International Airport', 'Ontario', 'CA', 'USA', 34.056, -117.60118999999999),\n",
       " ('ORD', \"Chicago O'Hare International Airport\", 'Chicago', 'IL', 'USA', 41.9796, -87.90446),\n",
       " ('ORF', 'Norfolk International Airport', 'Norfolk', 'VA', 'USA', 36.89461, -76.20121999999999),\n",
       " ('ORH', 'Worcester Regional Airport', 'Worcester', 'MA', 'USA', 42.267340000000004, -71.87571),\n",
       " ('OTH', 'Southwest Oregon Regional Airport\\xa0(North Bend Municipal)', 'North Bend', 'OR', 'USA', 43.41714, -124.24603),\n",
       " ('OTZ', 'Ralph Wien Memorial Airport', 'Kotzebue', 'AK', 'USA', 66.88468, -162.59855),\n",
       " ('PAH', 'Barkley Regional Airport', 'Paducah', 'KY', 'USA', 37.060829999999996, -88.77375),\n",
       " ('PBG', 'Plattsburgh International Airport', 'Plattsburgh', 'NY', 'USA', None, None),\n",
       " ('PBI', 'Palm Beach International Airport', 'West Palm Beach', 'FL', 'USA', 26.683159999999997, -80.09559),\n",
       " ('PDX', 'Portland International Airport', 'Portland', 'OR', 'USA', 45.58872, -122.5975),\n",
       " ('PHF', 'Newport News/Williamsburg International Airport', 'Newport News', 'VA', 'USA', 37.1319, -76.49299),\n",
       " ('PHL', 'Philadelphia International Airport', 'Philadelphia', 'PA', 'USA', 39.87195, -75.24114),\n",
       " ('PHX', 'Phoenix Sky Harbor International Airport', 'Phoenix', 'AZ', 'USA', 33.43417, -112.00806000000001),\n",
       " ('PIA', 'General Wayne A. Downing Peoria International Airport', 'Peoria', 'IL', 'USA', 40.66424, -89.69331),\n",
       " ('PIB', 'Hattiesburg-Laurel Regional Airport', 'Hattiesburg-Laurel', 'MS', 'USA', 31.46715, -89.33706),\n",
       " ('PIH', 'Pocatello Regional Airport', 'Pocatello', 'ID', 'USA', 42.91131, -112.59586000000002),\n",
       " ('PIT', 'Pittsburgh International Airport', 'Pittsburgh', 'PA', 'USA', 40.49147, -80.23286999999999),\n",
       " ('PLN', 'Pellston Regional Airport of Emmet County', 'Pellston', 'MI', 'USA', 45.57093, -84.79672),\n",
       " ('PNS', 'Pensacola International Airport\\xa0(Pensacola Gulf Coast Regional Airport)', 'Pensacola', 'FL', 'USA', 30.473309999999998, -87.18744000000001),\n",
       " ('PPG', 'Pago Pago International Airport (Tafuna Airport)', 'Pago Pago', 'AS', 'USA', 14.33102, -170.71053),\n",
       " ('PSC', 'Tri-Cities Airport', 'Pasco', 'WA', 'USA', 46.26468, -119.11903000000001),\n",
       " ('PSE', 'Mercedita Airport', 'Ponce', 'PR', 'USA', 18.0083, -66.56300999999999),\n",
       " ('PSG', 'Petersburg James A. Johnson Airport', 'Petersburg', 'AK', 'USA', 56.80165, -132.94528),\n",
       " ('PSP', 'Palm Springs International Airport', 'Palm Springs', 'CA', 'USA', 33.82922, -116.50625),\n",
       " ('PUB', 'Pueblo Memorial Airport', 'Pueblo', 'CO', 'USA', 38.28909, -104.49656999999999),\n",
       " ('PVD', 'Theodore Francis Green State Airport', 'Providence', 'RI', 'USA', 41.724, -71.42822),\n",
       " ('PWM', 'Portland International Jetport', 'Portland', 'ME', 'USA', 43.64617, -70.30875),\n",
       " ('RAP', 'Rapid City Regional Airport', 'Rapid City', 'SD', 'USA', 44.045320000000004, -103.05736999999999),\n",
       " ('RDD', 'Redding Municipal Airport', 'Redding', 'CA', 'USA', 40.50898, -122.2934),\n",
       " ('RDM', 'Redmond Municipal Airport\\xa0(Roberts Field)', 'Redmond', 'OR', 'USA', 44.25407, -121.14996000000001),\n",
       " ('RDU', 'Raleigh-Durham International Airport', 'Raleigh', 'NC', 'USA', 35.87764, -78.78747),\n",
       " ('RHI', 'Rhinelander-Oneida County Airport', 'Rhinelander', 'WI', 'USA', 45.631190000000004, -89.46745),\n",
       " ('RIC', 'Richmond International Airport', 'Richmond', 'VA', 'USA', 37.50517, -77.31967),\n",
       " ('RKS', 'Rock Springs-Sweetwater County Airport', 'Rock Springs', 'WY', 'USA', 41.59422, -109.06518999999999),\n",
       " ('RNO', 'Reno/Tahoe International Airport', 'Reno', 'NV', 'USA', 39.49858, -119.76806),\n",
       " ('ROA', 'Roanoke Regional Airport\\xa0(Woodrum Field)', 'Roanoke', 'VA', 'USA', 37.32547, -79.97543),\n",
       " ('ROC', 'Greater Rochester International Airport', 'Rochester', 'NY', 'USA', 43.11887, -77.67238),\n",
       " ('ROW', 'Roswell International Air Center', 'Roswell', 'NM', 'USA', 33.301559999999995, -104.53056),\n",
       " ('RST', 'Rochester International Airport', 'Rochester', 'MN', 'USA', 43.90883, -92.49799),\n",
       " ('RSW', 'Southwest Florida International Airport', 'Ft. Myers', 'FL', 'USA', 26.536170000000002, -81.75516999999999),\n",
       " ('SAF', 'Santa Fe Municipal Airport', 'Santa Fe', 'NM', 'USA', 35.61678, -106.08814),\n",
       " ('SAN', 'San Diego International Airport\\xa0(Lindbergh Field)', 'San Diego', 'CA', 'USA', 32.73356, -117.18966),\n",
       " ('SAT', 'San Antonio International Airport', 'San Antonio', 'TX', 'USA', 29.533690000000004, -98.46978),\n",
       " ('SAV', 'Savannah/Hilton Head International Airport', 'Savannah', 'GA', 'USA', 32.12758, -81.20214),\n",
       " ('SBA', 'Santa Barbara Municipal Airport\\xa0(Santa Barbara Airport)', 'Santa Barbara', 'CA', 'USA', 34.42621, -119.84037),\n",
       " ('SBN', 'South Bend International Airport\\xa0(South Bend Regional)', 'South Bend', 'IN', 'USA', 41.70895, -86.31846999999999),\n",
       " ('SBP', 'San Luis Obispo County Regional Airport\\xa0(McChesney Field)', 'San Luis Obispo', 'CA', 'USA', 35.23706, -120.64238999999999),\n",
       " ('SCC', 'Deadhorse Airport\\xa0(Prudhoe Bay Airport)', 'Deadhorse', 'AK', 'USA', 70.19476, -148.46516),\n",
       " ('SCE', 'University Park Airport', 'State College', 'PA', 'USA', 40.851209999999995, -77.8463),\n",
       " ('SDF', 'Louisville International Airport\\xa0(Standiford Field)', 'Louisville', 'KY', 'USA', 38.17439, -85.736),\n",
       " ('SEA', 'Seattle-Tacoma International Airport', 'Seattle', 'WA', 'USA', 47.44898, -122.30931000000001),\n",
       " ('SFO', 'San Francisco International Airport', 'San Francisco', 'CA', 'USA', 37.619, -122.37483999999999),\n",
       " ('SGF', 'Springfield-Branson National Airport', 'Springfield', 'MO', 'USA', 37.24433, -93.38686),\n",
       " ('SGU', 'St. George Regional Airport', 'St George', 'UT', 'USA', 37.090579999999996, -113.59306000000001),\n",
       " ('SHV', 'Shreveport Regional Airport', 'Shreveport', 'LA', 'USA', 32.44663, -93.8256),\n",
       " ('SIT', 'Sitka Rocky Gutierrez Airport', 'Sitka', 'AK', 'USA', 57.04714, -135.3616),\n",
       " ('SJC', 'Norman Y. Mineta San José International Airport', 'San Jose', 'CA', 'USA', 37.36186, -121.92901),\n",
       " ('SJT', 'San Angelo Regional Airport\\xa0(Mathis Field)', 'San Angelo', 'TX', 'USA', 31.35775, -100.49631),\n",
       " ('SJU', 'Luis Muñoz Marín International Airport', 'San Juan', 'PR', 'USA', 18.439420000000002, -66.00183),\n",
       " ('SLC', 'Salt Lake City International Airport', 'Salt Lake City', 'UT', 'USA', 40.78839, -111.97776999999999),\n",
       " ('SMF', 'Sacramento International Airport', 'Sacramento', 'CA', 'USA', 38.69542, -121.59076999999999),\n",
       " ('SMX', 'Santa Maria Public Airport\\xa0(Capt G. Allan Hancock Field)', 'Santa Maria', 'CA', 'USA', 34.89925, -120.45758000000001),\n",
       " ('SNA', 'John Wayne Airport\\xa0(Orange County Airport)', 'Santa Ana', 'CA', 'USA', 33.67566, -117.86822),\n",
       " ('SPI', 'Abraham Lincoln Capital Airport', 'Springfield', 'IL', 'USA', 39.84395, -89.67761999999999),\n",
       " ('SPS', 'Wichita Falls Municipal Airport/Sheppard AFB', 'Wichita Falls', 'TX', 'USA', 33.9888, -98.49189),\n",
       " ('SRQ', 'Sarasota-Bradenton International Airport', 'Sarasota', 'FL', 'USA', 27.395329999999998, -82.55411),\n",
       " ('STC', 'St. Cloud Regional Airport', 'St Cloud', 'MN', 'USA', 45.545320000000004, -94.05834),\n",
       " ('STL', 'St. Louis International Airport at Lambert Field', 'St Louis', 'MO', 'USA', 38.747690000000006, -90.35999),\n",
       " ('STT', 'Cyril E. King Airport', 'Charlotte Amalie', 'VI', 'USA', 18.337310000000002, -64.97336),\n",
       " ('STX', 'Henry E. Rohlsen Airport', 'Christiansted', 'VI', 'USA', 17.70189, -64.79856),\n",
       " ('SUN', 'Friedman Memorial Airport', 'Hailey', 'ID', 'USA', 43.50484, -114.29659),\n",
       " ('SUX', 'Sioux Gateway Airport', 'Sioux City', 'IA', 'USA', 42.4026, -96.38436999999999),\n",
       " ('SWF', 'Stewart International Airport', 'Newburgh', 'NY', 'USA', 41.504090000000005, -74.10484),\n",
       " ('SYR', 'Syracuse Hancock International Airport', 'Syracuse', 'NY', 'USA', 43.11119, -76.10631),\n",
       " ('TLH', 'Tallahassee International Airport', 'Tallahassee', 'FL', 'USA', 30.39653, -84.35033),\n",
       " ('TOL', 'Toledo Express Airport', 'Toledo', 'OH', 'USA', 41.58681, -83.80783000000001),\n",
       " ('TPA', 'Tampa International Airport', 'Tampa', 'FL', 'USA', 27.97547, -82.53325),\n",
       " ('TRI', 'Tri-Cities Regional Airport', 'Bristol', 'TN', 'USA', 36.47521, -82.40742),\n",
       " ('TTN', 'Trenton Mercer Airport', 'Trenton', 'NJ', 'USA', 40.27669, -74.81347),\n",
       " ('TUL', 'Tulsa International Airport', 'Tulsa', 'OK', 'USA', 36.198370000000004, -95.88824),\n",
       " ('TUS', 'Tucson International Airport', 'Tucson', 'AZ', 'USA', 32.11608, -110.94103),\n",
       " ('TVC', 'Cherry Capital Airport', 'Traverse City', 'MI', 'USA', 44.741440000000004, -85.58224),\n",
       " ('TWF', 'Magic Valley Regional Airport\\xa0(Joslin Field)', 'Twin Falls', 'ID', 'USA', 42.4818, -114.48773999999999),\n",
       " ('TXK', 'Texarkana Regional Airport\\xa0(Webb Field)', 'Texarkana', 'AR', 'USA', 33.45371, -93.99101999999999),\n",
       " ('TYR', 'Tyler Pounds Regional Airport', 'Tyler', 'TX', 'USA', 32.35414, -95.40239),\n",
       " ('TYS', 'McGhee Tyson Airport', 'Knoxville', 'TN', 'USA', 35.812490000000004, -83.99286),\n",
       " ('UST', 'Northeast Florida Regional Airport\\xa0(St. Augustine Airport)', 'St. Augustine', 'FL', 'USA', None, None),\n",
       " ('VEL', 'Valdez Airport', 'Vernal', 'UT', 'USA', 40.4409, -109.50992),\n",
       " ('VLD', 'Valdosta Regional Airport', 'Valdosta', 'GA', 'USA', 30.7825, -83.27672),\n",
       " ('VPS', 'Destin-Fort Walton Beach Airport/Eglin AFB', 'Valparaiso', 'FL', 'USA', 30.48325, -86.5254),\n",
       " ('WRG', 'Wrangell Airport', 'Wrangell', 'AK', 'USA', 56.48433000000001, -132.36982),\n",
       " ('WYS', 'Westerly State Airport', 'West Yellowstone', 'MT', 'USA', 44.6884, -111.11764),\n",
       " ('XNA', 'Northwest Arkansas Regional Airport', 'Fayetteville/Springdale/Rogers', 'AR', 'USA', 36.28187, -94.30681),\n",
       " ('YAK', 'Yakutat Airport', 'Yakutat', 'AK', 'USA', 59.50336, -139.66023),\n",
       " ('YUM', 'Yuma International Airport', 'Yuma', 'AZ', 'USA', 32.65658, -114.60597)]"
      ]
     },
     "execution_count": 11,
     "metadata": {},
     "output_type": "execute_result"
    }
   ],
   "source": [
    "airports_df.to_sql('airports',con=engine)\n",
    "engine.execute(\"select * from airports\").fetchall()"
   ]
  },
  {
   "cell_type": "markdown",
   "metadata": {},
   "source": [
    "# Fllight"
   ]
  },
  {
   "cell_type": "code",
   "execution_count": null,
   "metadata": {},
   "outputs": [],
   "source": [
    "flights_file = \"./Resources/flights.csv\"\n",
    "flights_df = pd.read_csv(flights_file)\n",
    "flights_df.head()"
   ]
  },
  {
   "cell_type": "markdown",
   "metadata": {},
   "source": [
    "#### Check Datatypes of all the columns"
   ]
  },
  {
   "cell_type": "code",
   "execution_count": null,
   "metadata": {},
   "outputs": [],
   "source": [
    "flights_df.dtypes"
   ]
  },
  {
   "cell_type": "code",
   "execution_count": null,
   "metadata": {},
   "outputs": [],
   "source": []
  },
  {
   "cell_type": "code",
   "execution_count": null,
   "metadata": {},
   "outputs": [],
   "source": [
    "# DROP DELAY columns\n",
    "flights_df = flights_df.drop(columns=['AIR_SYSTEM_DELAY', 'SECURITY_DELAY','AIRLINE_DELAY',\n",
    "                         'LATE_AIRCRAFT_DELAY','WEATHER_DELAY'])\n",
    "flights_df"
   ]
  },
  {
   "cell_type": "code",
   "execution_count": null,
   "metadata": {},
   "outputs": [],
   "source": [
    "# Merge DateTime to one column\n",
    "flights_df['DATE'] = pd.to_datetime(flights_df[['YEAR','MONTH','DAY']])\n",
    "flights_df = flights_df.drop(columns=['YEAR','MONTH','DAY'])\n",
    "flights_df.head()"
   ]
  },
  {
   "cell_type": "code",
   "execution_count": null,
   "metadata": {
    "scrolled": true
   },
   "outputs": [],
   "source": [
    "# Saturday has the least flights\n",
    "# Thursday has the most flights\n",
    "flights_df.groupby('DAY_OF_WEEK').count()"
   ]
  },
  {
   "cell_type": "code",
   "execution_count": null,
   "metadata": {},
   "outputs": [],
   "source": [
    "# Change Day of week from num to string\n",
    "flights_df.loc[flights_df[\"DAY_OF_WEEK\"] == 1, \"DAY_OF_WEEK\"] = \"Monday\"\n",
    "flights_df.loc[flights_df[\"DAY_OF_WEEK\"] == 2, \"DAY_OF_WEEK\"] = \"Tuesday\"\n",
    "flights_df.loc[flights_df[\"DAY_OF_WEEK\"] == 3, \"DAY_OF_WEEK\"] = \"Wednesday\"\n",
    "flights_df.loc[flights_df[\"DAY_OF_WEEK\"] == 4, \"DAY_OF_WEEK\"] = \"Thursday\"\n",
    "flights_df.loc[flights_df[\"DAY_OF_WEEK\"] == 5, \"DAY_OF_WEEK\"] = \"Friday\"\n",
    "flights_df.loc[flights_df[\"DAY_OF_WEEK\"] == 6, \"DAY_OF_WEEK\"] = \"Saturday\"\n",
    "flights_df.loc[flights_df[\"DAY_OF_WEEK\"] == 7, \"DAY_OF_WEEK\"] = \"Sunday\""
   ]
  },
  {
   "cell_type": "code",
   "execution_count": null,
   "metadata": {},
   "outputs": [],
   "source": [
    "flights_df.columns"
   ]
  },
  {
   "cell_type": "code",
   "execution_count": null,
   "metadata": {},
   "outputs": [],
   "source": [
    "flights_df"
   ]
  },
  {
   "cell_type": "markdown",
   "metadata": {},
   "source": [
    "### Delay Flights"
   ]
  },
  {
   "cell_type": "code",
   "execution_count": null,
   "metadata": {},
   "outputs": [],
   "source": [
    "# The total df of delay flights\n",
    "Delay_flights = flights_df.loc[flights_df['ARRIVAL_DELAY']!= 0].reset_index(drop=True)\n",
    "Delay_flights"
   ]
  },
  {
   "cell_type": "markdown",
   "metadata": {},
   "source": [
    "# Connect to sql"
   ]
  },
  {
   "cell_type": "code",
   "execution_count": null,
   "metadata": {},
   "outputs": [],
   "source": [
    "from sqlalchemy import create_engine\n",
    "engine = create_engine('sqlite://', echo=False)"
   ]
  },
  {
   "cell_type": "code",
   "execution_count": null,
   "metadata": {},
   "outputs": [],
   "source": [
    "Delay_flights.to_sql('delayFlights',con=engine)\n",
    "engine.execute(\"select * from delayFlights\").fetchall()"
   ]
  },
  {
   "cell_type": "code",
   "execution_count": null,
   "metadata": {},
   "outputs": [],
   "source": []
  },
  {
   "cell_type": "code",
   "execution_count": null,
   "metadata": {},
   "outputs": [],
   "source": []
  },
  {
   "cell_type": "markdown",
   "metadata": {},
   "source": [
    "### CANCELLED FLIGHT"
   ]
  },
  {
   "cell_type": "code",
   "execution_count": null,
   "metadata": {},
   "outputs": [],
   "source": [
    "cancelled_flights = flights_df.loc[flights_df['CANCELLED']==1].reset_index(drop=True)"
   ]
  },
  {
   "cell_type": "code",
   "execution_count": null,
   "metadata": {},
   "outputs": [],
   "source": [
    "# Count total number of cancelled flights\n",
    "cancelled_flights.count()['CANCELLED']"
   ]
  },
  {
   "cell_type": "code",
   "execution_count": null,
   "metadata": {},
   "outputs": [],
   "source": [
    "cancelled_flights.head(5)"
   ]
  },
  {
   "cell_type": "code",
   "execution_count": null,
   "metadata": {},
   "outputs": [],
   "source": [
    "cancelled_flights.dtypes"
   ]
  },
  {
   "cell_type": "code",
   "execution_count": null,
   "metadata": {},
   "outputs": [],
   "source": [
    "# Remove the meaningless columns\n",
    "cancelled_flights = cancelled_flights[['AIRLINE','DATE','DAY_OF_WEEK','TAIL_NUMBER','FLIGHT_NUMBER','ORIGIN_AIRPORT',\n",
    "                                     'DESTINATION_AIRPORT']]\n",
    "cancelled_flights.head(10)"
   ]
  },
  {
   "cell_type": "code",
   "execution_count": null,
   "metadata": {},
   "outputs": [],
   "source": [
    "cancelled_flights.groupby('AIRLINE').count().sort_values(by='DATE', ascending=False)#['FLIGHT_NUMBER']"
   ]
  },
  {
   "cell_type": "code",
   "execution_count": null,
   "metadata": {},
   "outputs": [],
   "source": []
  },
  {
   "cell_type": "code",
   "execution_count": null,
   "metadata": {},
   "outputs": [],
   "source": []
  },
  {
   "cell_type": "code",
   "execution_count": null,
   "metadata": {},
   "outputs": [],
   "source": []
  },
  {
   "cell_type": "markdown",
   "metadata": {},
   "source": [
    "## Tweets data"
   ]
  },
  {
   "cell_type": "code",
   "execution_count": null,
   "metadata": {},
   "outputs": [],
   "source": [
    "tweets_file = \"./Resources/Tweets.csv\"\n",
    "tweets_df = pd.read_csv(tweets_file)\n",
    "tweets_df.head(10)\n",
    "tweets_df.dtypes"
   ]
  },
  {
   "cell_type": "code",
   "execution_count": null,
   "metadata": {},
   "outputs": [],
   "source": [
    "tweets_df = tweets_df[['tweet_id','airline_sentiment','negativereason','airline','tweet_created']]\n",
    "tweets_df"
   ]
  },
  {
   "cell_type": "code",
   "execution_count": null,
   "metadata": {},
   "outputs": [],
   "source": [
    "tweets_df['DATE'] = pd.to_datetime(tweets_df['tweet_created'])\n",
    "tweets_df['DATE']=pd.DatetimeIndex(tweets_df['DATE']).date\n",
    "tweets_df = tweets_df.drop(columns=['tweet_created'])"
   ]
  },
  {
   "cell_type": "code",
   "execution_count": null,
   "metadata": {},
   "outputs": [],
   "source": [
    "tweets_df"
   ]
  },
  {
   "cell_type": "code",
   "execution_count": null,
   "metadata": {},
   "outputs": [],
   "source": []
  },
  {
   "cell_type": "code",
   "execution_count": null,
   "metadata": {},
   "outputs": [],
   "source": []
  },
  {
   "cell_type": "code",
   "execution_count": null,
   "metadata": {},
   "outputs": [],
   "source": [
    "# Clean the tweet_created column to get the Date\n",
    "# tweets_df['DATE'] = tweets_df['tweet_created'].str[0:10]\n",
    "# tweets_df['DATE'] = pd.to_datetime(tweets_df['DATE'])\n",
    "# tweets_df.head()\n",
    "# tweets_df = tweets_df.drop(columns=['tweet_created'])\n",
    "# tweets_df.dtypes"
   ]
  },
  {
   "cell_type": "code",
   "execution_count": null,
   "metadata": {},
   "outputs": [],
   "source": []
  },
  {
   "cell_type": "code",
   "execution_count": null,
   "metadata": {},
   "outputs": [],
   "source": []
  },
  {
   "cell_type": "code",
   "execution_count": null,
   "metadata": {},
   "outputs": [],
   "source": [
    "# How many NaN in each column?\n",
    "tweets_df.isnull().sum()"
   ]
  },
  {
   "cell_type": "code",
   "execution_count": null,
   "metadata": {},
   "outputs": [],
   "source": [
    "# If we want to change NaN valule to 0\n",
    "# tweets_df.loc[tweets_df['set_of_numbers'].isnull(),'value_is_NaN'] = 'Yes'\n",
    "# tweets_df.loc[tweets_df['set_of_numbers'].notnull(),'value_is_NaN'] = 'No'\n",
    "\n",
    "# count_nan = tweets_df.loc[tweets_df['value_is_NaN']=='Yes'].count()\n",
    "# print (count_nan)"
   ]
  },
  {
   "cell_type": "markdown",
   "metadata": {},
   "source": [
    "#### How many airlines are mentioned in tweets data?"
   ]
  },
  {
   "cell_type": "code",
   "execution_count": null,
   "metadata": {
    "scrolled": true
   },
   "outputs": [],
   "source": [
    "tweets_df.groupby('airline').count()"
   ]
  },
  {
   "cell_type": "markdown",
   "metadata": {},
   "source": [
    "### Add AIRLINE_ID to tweets_df"
   ]
  },
  {
   "cell_type": "code",
   "execution_count": null,
   "metadata": {},
   "outputs": [],
   "source": [
    "tweets_df.loc[tweets_df[\"airline\"] == \"American\", \"AIRLINE_ID\"] = \"AA\"\n",
    "tweets_df.loc[tweets_df[\"airline\"] == \"Delta\",    \"AIRLINE_ID\"] = \"DL\"\n",
    "tweets_df.loc[tweets_df[\"airline\"] == \"Southwest\",\"AIRLINE_ID\"] = \"WN\"\n",
    "tweets_df.loc[tweets_df[\"airline\"] == \"US Airways\",\"AIRLINE_ID\"] = \"US\"\n",
    "tweets_df.loc[tweets_df[\"airline\"] == \"United\", \"AIRLINE_ID\"] = \"UA\"\n",
    "tweets_df.loc[tweets_df[\"airline\"] == \"Virgin America\", \"AIRLINE_ID\"] = \"VX\""
   ]
  },
  {
   "cell_type": "code",
   "execution_count": null,
   "metadata": {},
   "outputs": [],
   "source": [
    "tweets_df.groupby('AIRLINE_ID').count()"
   ]
  },
  {
   "cell_type": "code",
   "execution_count": null,
   "metadata": {},
   "outputs": [],
   "source": []
  },
  {
   "cell_type": "code",
   "execution_count": null,
   "metadata": {},
   "outputs": [],
   "source": []
  },
  {
   "cell_type": "code",
   "execution_count": null,
   "metadata": {},
   "outputs": [],
   "source": []
  },
  {
   "cell_type": "code",
   "execution_count": null,
   "metadata": {},
   "outputs": [],
   "source": []
  },
  {
   "cell_type": "code",
   "execution_count": null,
   "metadata": {},
   "outputs": [],
   "source": []
  }
 ],
 "metadata": {
  "kernelspec": {
   "display_name": "Python 3",
   "language": "python",
   "name": "python3"
  },
  "language_info": {
   "codemirror_mode": {
    "name": "ipython",
    "version": 3
   },
   "file_extension": ".py",
   "mimetype": "text/x-python",
   "name": "python",
   "nbconvert_exporter": "python",
   "pygments_lexer": "ipython3",
   "version": "3.7.7"
  }
 },
 "nbformat": 4,
 "nbformat_minor": 4
}
